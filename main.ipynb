{
 "cells": [
  {
   "cell_type": "markdown",
   "metadata": {},
   "source": [
    "# Tugas Besar IF2220 Probabilitas dan Statistika"
   ]
  },
  {
   "cell_type": "markdown",
   "metadata": {},
   "source": [
    "### Penarikan Kesimpulan dan Pengujian Hipotesis"
   ]
  },
  {
   "cell_type": "markdown",
   "metadata": {},
   "source": [
    "#### Oleh:\n",
    "#### 13520065 Rayhan Kinan Muhannad\n",
    "#### 13520101 Aira Thalca Avila Putra"
   ]
  },
  {
   "cell_type": "markdown",
   "metadata": {},
   "source": [
    "### Inisialisasi *library* yang akan digunakan."
   ]
  },
  {
   "cell_type": "code",
   "execution_count": 2,
   "metadata": {},
   "outputs": [],
   "source": [
    "import pandas as pd\n",
    "import numpy as np\n",
    "import matplotlib.pyplot as plt\n",
    "from IPython.display import Markdown, display"
   ]
  },
  {
   "cell_type": "markdown",
   "metadata": {},
   "source": [
    "### 1. Menuliskan deskripsi statistika (*descriptive statistics*) dari semua kolom pada data yang bersifat numerik, terdiri dari mean, median, modus, standar deviasi, variansi, range, nilai minimum, maksimum, kuartil, IQR (*interquartile range*), *skewness*, dan *kurtosis*."
   ]
  },
  {
   "cell_type": "code",
   "execution_count": 3,
   "metadata": {},
   "outputs": [
    {
     "name": "stdout",
     "output_type": "stream",
     "text": [
      "<class 'pandas.core.frame.DataFrame'>\n",
      "RangeIndex: 2010 entries, 0 to 2009\n",
      "Data columns (total 11 columns):\n",
      " #   Column           Non-Null Count  Dtype  \n",
      "---  ------           --------------  -----  \n",
      " 0   id               2010 non-null   int64  \n",
      " 1   pH               2010 non-null   float64\n",
      " 2   Hardness         2010 non-null   float64\n",
      " 3   Solids           2010 non-null   float64\n",
      " 4   Chloramines      2010 non-null   float64\n",
      " 5   Sulfate          2010 non-null   float64\n",
      " 6   Conductivity     2010 non-null   float64\n",
      " 7   OrganicCarbon    2010 non-null   float64\n",
      " 8   Trihalomethanes  2010 non-null   float64\n",
      " 9   Turbidity        2010 non-null   float64\n",
      " 10  Potability       2010 non-null   int64  \n",
      "dtypes: float64(9), int64(2)\n",
      "memory usage: 172.9 KB\n"
     ]
    }
   ],
   "source": [
    "column = [\"id\", \"pH\", \"Hardness\", \"Solids\", \"Chloramines\", \"Sulfate\", \"Conductivity\", \"OrganicCarbon\", \"Trihalomethanes\", \"Turbidity\", \"Potability\"]\n",
    "df = pd.read_csv(\"dataset/water_potability.csv\", header = None, names = column)\n",
    "df.info()"
   ]
  },
  {
   "cell_type": "code",
   "execution_count": 4,
   "metadata": {},
   "outputs": [
    {
     "data": {
      "text/markdown": [
       "#### Mean, Median, Standar Deviasi, Variansi, Range, Minimum, Maximum, Kuartil, Skewness, dan Kurtosis"
      ],
      "text/plain": [
       "<IPython.core.display.Markdown object>"
      ]
     },
     "metadata": {},
     "output_type": "display_data"
    },
    {
     "data": {
      "text/html": [
       "<div>\n",
       "<style scoped>\n",
       "    .dataframe tbody tr th:only-of-type {\n",
       "        vertical-align: middle;\n",
       "    }\n",
       "\n",
       "    .dataframe tbody tr th {\n",
       "        vertical-align: top;\n",
       "    }\n",
       "\n",
       "    .dataframe thead th {\n",
       "        text-align: right;\n",
       "    }\n",
       "</style>\n",
       "<table border=\"1\" class=\"dataframe\">\n",
       "  <thead>\n",
       "    <tr style=\"text-align: right;\">\n",
       "      <th></th>\n",
       "      <th>Mean</th>\n",
       "      <th>Median</th>\n",
       "      <th>Std</th>\n",
       "      <th>Var</th>\n",
       "      <th>Min</th>\n",
       "      <th>Max</th>\n",
       "      <th>Range</th>\n",
       "      <th>Q1</th>\n",
       "      <th>Q2</th>\n",
       "      <th>Q3</th>\n",
       "      <th>IQR</th>\n",
       "      <th>Skew</th>\n",
       "      <th>Kurt</th>\n",
       "    </tr>\n",
       "  </thead>\n",
       "  <tbody>\n",
       "    <tr>\n",
       "      <th>pH</th>\n",
       "      <td>7.087193</td>\n",
       "      <td>7.029490</td>\n",
       "      <td>1.572803</td>\n",
       "      <td>2.473709e+00</td>\n",
       "      <td>0.227499</td>\n",
       "      <td>14.000000</td>\n",
       "      <td>13.772501</td>\n",
       "      <td>6.090785</td>\n",
       "      <td>7.029490</td>\n",
       "      <td>8.053006</td>\n",
       "      <td>1.962221</td>\n",
       "      <td>0.048535</td>\n",
       "      <td>0.626904</td>\n",
       "    </tr>\n",
       "    <tr>\n",
       "      <th>Hardness</th>\n",
       "      <td>195.969209</td>\n",
       "      <td>197.203525</td>\n",
       "      <td>32.643166</td>\n",
       "      <td>1.065576e+03</td>\n",
       "      <td>73.492234</td>\n",
       "      <td>317.338124</td>\n",
       "      <td>243.845890</td>\n",
       "      <td>176.740657</td>\n",
       "      <td>197.203525</td>\n",
       "      <td>216.447589</td>\n",
       "      <td>39.706932</td>\n",
       "      <td>-0.085321</td>\n",
       "      <td>0.525480</td>\n",
       "    </tr>\n",
       "    <tr>\n",
       "      <th>Solids</th>\n",
       "      <td>21904.673439</td>\n",
       "      <td>20926.882155</td>\n",
       "      <td>8625.397911</td>\n",
       "      <td>7.439749e+07</td>\n",
       "      <td>320.942611</td>\n",
       "      <td>56488.672413</td>\n",
       "      <td>56167.729801</td>\n",
       "      <td>15614.412962</td>\n",
       "      <td>20926.882155</td>\n",
       "      <td>27170.534649</td>\n",
       "      <td>11556.121687</td>\n",
       "      <td>0.591011</td>\n",
       "      <td>0.337320</td>\n",
       "    </tr>\n",
       "    <tr>\n",
       "      <th>Chloramines</th>\n",
       "      <td>7.134322</td>\n",
       "      <td>7.142014</td>\n",
       "      <td>1.585214</td>\n",
       "      <td>2.512904e+00</td>\n",
       "      <td>1.390871</td>\n",
       "      <td>13.127000</td>\n",
       "      <td>11.736129</td>\n",
       "      <td>6.138326</td>\n",
       "      <td>7.142014</td>\n",
       "      <td>8.109933</td>\n",
       "      <td>1.971607</td>\n",
       "      <td>0.013003</td>\n",
       "      <td>0.549782</td>\n",
       "    </tr>\n",
       "    <tr>\n",
       "      <th>Sulfate</th>\n",
       "      <td>333.211376</td>\n",
       "      <td>332.214113</td>\n",
       "      <td>41.211111</td>\n",
       "      <td>1.698356e+03</td>\n",
       "      <td>129.000000</td>\n",
       "      <td>481.030642</td>\n",
       "      <td>352.030642</td>\n",
       "      <td>307.626986</td>\n",
       "      <td>332.214113</td>\n",
       "      <td>359.268147</td>\n",
       "      <td>51.641161</td>\n",
       "      <td>-0.045728</td>\n",
       "      <td>0.786854</td>\n",
       "    </tr>\n",
       "    <tr>\n",
       "      <th>Conductivity</th>\n",
       "      <td>426.476708</td>\n",
       "      <td>423.438372</td>\n",
       "      <td>80.701872</td>\n",
       "      <td>6.512792e+03</td>\n",
       "      <td>201.619737</td>\n",
       "      <td>753.342620</td>\n",
       "      <td>551.722883</td>\n",
       "      <td>366.619219</td>\n",
       "      <td>423.438372</td>\n",
       "      <td>482.209772</td>\n",
       "      <td>115.590553</td>\n",
       "      <td>0.268012</td>\n",
       "      <td>-0.237206</td>\n",
       "    </tr>\n",
       "    <tr>\n",
       "      <th>OrganicCarbon</th>\n",
       "      <td>14.357940</td>\n",
       "      <td>14.323286</td>\n",
       "      <td>3.325770</td>\n",
       "      <td>1.106075e+01</td>\n",
       "      <td>2.200000</td>\n",
       "      <td>27.006707</td>\n",
       "      <td>24.806707</td>\n",
       "      <td>12.122530</td>\n",
       "      <td>14.323286</td>\n",
       "      <td>16.683562</td>\n",
       "      <td>4.561031</td>\n",
       "      <td>-0.020220</td>\n",
       "      <td>0.031018</td>\n",
       "    </tr>\n",
       "    <tr>\n",
       "      <th>Trihalomethanes</th>\n",
       "      <td>66.400717</td>\n",
       "      <td>66.482041</td>\n",
       "      <td>16.081109</td>\n",
       "      <td>2.586021e+02</td>\n",
       "      <td>8.577013</td>\n",
       "      <td>124.000000</td>\n",
       "      <td>115.422987</td>\n",
       "      <td>55.949993</td>\n",
       "      <td>66.482041</td>\n",
       "      <td>77.294613</td>\n",
       "      <td>21.344620</td>\n",
       "      <td>-0.051383</td>\n",
       "      <td>0.223017</td>\n",
       "    </tr>\n",
       "    <tr>\n",
       "      <th>Turbidity</th>\n",
       "      <td>3.969497</td>\n",
       "      <td>3.967374</td>\n",
       "      <td>0.780471</td>\n",
       "      <td>6.091350e-01</td>\n",
       "      <td>1.450000</td>\n",
       "      <td>6.494749</td>\n",
       "      <td>5.044749</td>\n",
       "      <td>3.442882</td>\n",
       "      <td>3.967374</td>\n",
       "      <td>4.514663</td>\n",
       "      <td>1.071781</td>\n",
       "      <td>-0.032266</td>\n",
       "      <td>-0.049831</td>\n",
       "    </tr>\n",
       "  </tbody>\n",
       "</table>\n",
       "</div>"
      ],
      "text/plain": [
       "                         Mean        Median          Std           Var  \\\n",
       "pH                   7.087193      7.029490     1.572803  2.473709e+00   \n",
       "Hardness           195.969209    197.203525    32.643166  1.065576e+03   \n",
       "Solids           21904.673439  20926.882155  8625.397911  7.439749e+07   \n",
       "Chloramines          7.134322      7.142014     1.585214  2.512904e+00   \n",
       "Sulfate            333.211376    332.214113    41.211111  1.698356e+03   \n",
       "Conductivity       426.476708    423.438372    80.701872  6.512792e+03   \n",
       "OrganicCarbon       14.357940     14.323286     3.325770  1.106075e+01   \n",
       "Trihalomethanes     66.400717     66.482041    16.081109  2.586021e+02   \n",
       "Turbidity            3.969497      3.967374     0.780471  6.091350e-01   \n",
       "\n",
       "                        Min           Max         Range            Q1  \\\n",
       "pH                 0.227499     14.000000     13.772501      6.090785   \n",
       "Hardness          73.492234    317.338124    243.845890    176.740657   \n",
       "Solids           320.942611  56488.672413  56167.729801  15614.412962   \n",
       "Chloramines        1.390871     13.127000     11.736129      6.138326   \n",
       "Sulfate          129.000000    481.030642    352.030642    307.626986   \n",
       "Conductivity     201.619737    753.342620    551.722883    366.619219   \n",
       "OrganicCarbon      2.200000     27.006707     24.806707     12.122530   \n",
       "Trihalomethanes    8.577013    124.000000    115.422987     55.949993   \n",
       "Turbidity          1.450000      6.494749      5.044749      3.442882   \n",
       "\n",
       "                           Q2            Q3           IQR      Skew      Kurt  \n",
       "pH                   7.029490      8.053006      1.962221  0.048535  0.626904  \n",
       "Hardness           197.203525    216.447589     39.706932 -0.085321  0.525480  \n",
       "Solids           20926.882155  27170.534649  11556.121687  0.591011  0.337320  \n",
       "Chloramines          7.142014      8.109933      1.971607  0.013003  0.549782  \n",
       "Sulfate            332.214113    359.268147     51.641161 -0.045728  0.786854  \n",
       "Conductivity       423.438372    482.209772    115.590553  0.268012 -0.237206  \n",
       "OrganicCarbon       14.323286     16.683562      4.561031 -0.020220  0.031018  \n",
       "Trihalomethanes     66.482041     77.294613     21.344620 -0.051383  0.223017  \n",
       "Turbidity            3.967374      4.514663      1.071781 -0.032266 -0.049831  "
      ]
     },
     "execution_count": 4,
     "metadata": {},
     "output_type": "execute_result"
    }
   ],
   "source": [
    "display(Markdown((\"#### Mean, Median, Standar Deviasi, Variansi, Range, Minimum, Maximum, Kuartil, Skewness, dan Kurtosis\")))\n",
    "no1 = df.drop([\"id\", \"Potability\"], axis=1) \n",
    "\n",
    "stat = pd.DataFrame()\n",
    "stat[\"Mean\"] = no1.mean()\n",
    "stat[\"Median\"] = no1.median()\n",
    "stat[\"Std\"] = no1.std()\n",
    "stat[\"Var\"] = no1.var()\n",
    "stat[\"Min\"] = no1.min()\n",
    "stat[\"Max\"] = no1.max()\n",
    "stat[\"Range\"] = stat[\"Max\"] - stat[\"Min\"]\n",
    "stat[\"Q1\"] = no1.quantile(0.25)\n",
    "stat[\"Q2\"] = no1.quantile(0.5)\n",
    "stat[\"Q3\"] = no1.quantile(0.75)\n",
    "stat[\"IQR\"] = stat[\"Q3\"] - stat[\"Q1\"]\n",
    "stat[\"Skew\"] = no1.skew()\n",
    "stat[\"Kurt\"] = no1.kurtosis()\n",
    "stat"
   ]
  },
  {
   "cell_type": "code",
   "execution_count": 5,
   "metadata": {},
   "outputs": [
    {
     "data": {
      "text/markdown": [
       "#### Modus [*multivalued*]"
      ],
      "text/plain": [
       "<IPython.core.display.Markdown object>"
      ]
     },
     "metadata": {},
     "output_type": "display_data"
    },
    {
     "data": {
      "text/html": [
       "<div>\n",
       "<style scoped>\n",
       "    .dataframe tbody tr th:only-of-type {\n",
       "        vertical-align: middle;\n",
       "    }\n",
       "\n",
       "    .dataframe tbody tr th {\n",
       "        vertical-align: top;\n",
       "    }\n",
       "\n",
       "    .dataframe thead th {\n",
       "        text-align: right;\n",
       "    }\n",
       "</style>\n",
       "<table border=\"1\" class=\"dataframe\">\n",
       "  <thead>\n",
       "    <tr style=\"text-align: right;\">\n",
       "      <th></th>\n",
       "      <th>pH</th>\n",
       "      <th>Hardness</th>\n",
       "      <th>Solids</th>\n",
       "      <th>Chloramines</th>\n",
       "      <th>Sulfate</th>\n",
       "      <th>Conductivity</th>\n",
       "      <th>OrganicCarbon</th>\n",
       "      <th>Trihalomethanes</th>\n",
       "      <th>Turbidity</th>\n",
       "    </tr>\n",
       "  </thead>\n",
       "  <tbody>\n",
       "    <tr>\n",
       "      <th>0</th>\n",
       "      <td>0.227499</td>\n",
       "      <td>73.492234</td>\n",
       "      <td>320.942611</td>\n",
       "      <td>1.390871</td>\n",
       "      <td>129.000000</td>\n",
       "      <td>201.619737</td>\n",
       "      <td>2.200000</td>\n",
       "      <td>8.577013</td>\n",
       "      <td>1.450000</td>\n",
       "    </tr>\n",
       "    <tr>\n",
       "      <th>1</th>\n",
       "      <td>0.989912</td>\n",
       "      <td>77.459586</td>\n",
       "      <td>1198.943699</td>\n",
       "      <td>1.920271</td>\n",
       "      <td>180.206746</td>\n",
       "      <td>210.319182</td>\n",
       "      <td>4.371899</td>\n",
       "      <td>14.343161</td>\n",
       "      <td>1.492207</td>\n",
       "    </tr>\n",
       "    <tr>\n",
       "      <th>2</th>\n",
       "      <td>1.431782</td>\n",
       "      <td>81.710895</td>\n",
       "      <td>1351.906979</td>\n",
       "      <td>2.397985</td>\n",
       "      <td>182.397370</td>\n",
       "      <td>233.907965</td>\n",
       "      <td>4.466772</td>\n",
       "      <td>15.684877</td>\n",
       "      <td>1.496101</td>\n",
       "    </tr>\n",
       "    <tr>\n",
       "      <th>3</th>\n",
       "      <td>1.757037</td>\n",
       "      <td>94.091307</td>\n",
       "      <td>1372.091043</td>\n",
       "      <td>2.456014</td>\n",
       "      <td>187.170714</td>\n",
       "      <td>245.859632</td>\n",
       "      <td>4.861631</td>\n",
       "      <td>16.291505</td>\n",
       "      <td>1.680554</td>\n",
       "    </tr>\n",
       "    <tr>\n",
       "      <th>4</th>\n",
       "      <td>1.985383</td>\n",
       "      <td>94.812545</td>\n",
       "      <td>2552.962804</td>\n",
       "      <td>2.458609</td>\n",
       "      <td>187.424131</td>\n",
       "      <td>252.968328</td>\n",
       "      <td>4.966862</td>\n",
       "      <td>17.527765</td>\n",
       "      <td>1.812529</td>\n",
       "    </tr>\n",
       "    <tr>\n",
       "      <th>...</th>\n",
       "      <td>...</td>\n",
       "      <td>...</td>\n",
       "      <td>...</td>\n",
       "      <td>...</td>\n",
       "      <td>...</td>\n",
       "      <td>...</td>\n",
       "      <td>...</td>\n",
       "      <td>...</td>\n",
       "      <td>...</td>\n",
       "    </tr>\n",
       "    <tr>\n",
       "      <th>2005</th>\n",
       "      <td>11.568768</td>\n",
       "      <td>286.567991</td>\n",
       "      <td>50793.898917</td>\n",
       "      <td>12.580026</td>\n",
       "      <td>458.441072</td>\n",
       "      <td>666.690618</td>\n",
       "      <td>23.569645</td>\n",
       "      <td>114.034946</td>\n",
       "      <td>6.307678</td>\n",
       "    </tr>\n",
       "    <tr>\n",
       "      <th>2006</th>\n",
       "      <td>11.898078</td>\n",
       "      <td>287.975540</td>\n",
       "      <td>53735.899194</td>\n",
       "      <td>12.626900</td>\n",
       "      <td>460.107069</td>\n",
       "      <td>669.725086</td>\n",
       "      <td>23.604298</td>\n",
       "      <td>114.208671</td>\n",
       "      <td>6.357439</td>\n",
       "    </tr>\n",
       "    <tr>\n",
       "      <th>2007</th>\n",
       "      <td>12.246928</td>\n",
       "      <td>300.292476</td>\n",
       "      <td>55334.702799</td>\n",
       "      <td>12.653362</td>\n",
       "      <td>475.737460</td>\n",
       "      <td>695.369528</td>\n",
       "      <td>23.917601</td>\n",
       "      <td>116.161622</td>\n",
       "      <td>6.389161</td>\n",
       "    </tr>\n",
       "    <tr>\n",
       "      <th>2008</th>\n",
       "      <td>13.349889</td>\n",
       "      <td>306.627481</td>\n",
       "      <td>56351.396304</td>\n",
       "      <td>13.043806</td>\n",
       "      <td>476.539717</td>\n",
       "      <td>708.226364</td>\n",
       "      <td>24.755392</td>\n",
       "      <td>120.030077</td>\n",
       "      <td>6.494249</td>\n",
       "    </tr>\n",
       "    <tr>\n",
       "      <th>2009</th>\n",
       "      <td>14.000000</td>\n",
       "      <td>317.338124</td>\n",
       "      <td>56488.672413</td>\n",
       "      <td>13.127000</td>\n",
       "      <td>481.030642</td>\n",
       "      <td>753.342620</td>\n",
       "      <td>27.006707</td>\n",
       "      <td>124.000000</td>\n",
       "      <td>6.494749</td>\n",
       "    </tr>\n",
       "  </tbody>\n",
       "</table>\n",
       "<p>2010 rows × 9 columns</p>\n",
       "</div>"
      ],
      "text/plain": [
       "             pH    Hardness        Solids  Chloramines     Sulfate  \\\n",
       "0      0.227499   73.492234    320.942611     1.390871  129.000000   \n",
       "1      0.989912   77.459586   1198.943699     1.920271  180.206746   \n",
       "2      1.431782   81.710895   1351.906979     2.397985  182.397370   \n",
       "3      1.757037   94.091307   1372.091043     2.456014  187.170714   \n",
       "4      1.985383   94.812545   2552.962804     2.458609  187.424131   \n",
       "...         ...         ...           ...          ...         ...   \n",
       "2005  11.568768  286.567991  50793.898917    12.580026  458.441072   \n",
       "2006  11.898078  287.975540  53735.899194    12.626900  460.107069   \n",
       "2007  12.246928  300.292476  55334.702799    12.653362  475.737460   \n",
       "2008  13.349889  306.627481  56351.396304    13.043806  476.539717   \n",
       "2009  14.000000  317.338124  56488.672413    13.127000  481.030642   \n",
       "\n",
       "      Conductivity  OrganicCarbon  Trihalomethanes  Turbidity  \n",
       "0       201.619737       2.200000         8.577013   1.450000  \n",
       "1       210.319182       4.371899        14.343161   1.492207  \n",
       "2       233.907965       4.466772        15.684877   1.496101  \n",
       "3       245.859632       4.861631        16.291505   1.680554  \n",
       "4       252.968328       4.966862        17.527765   1.812529  \n",
       "...            ...            ...              ...        ...  \n",
       "2005    666.690618      23.569645       114.034946   6.307678  \n",
       "2006    669.725086      23.604298       114.208671   6.357439  \n",
       "2007    695.369528      23.917601       116.161622   6.389161  \n",
       "2008    708.226364      24.755392       120.030077   6.494249  \n",
       "2009    753.342620      27.006707       124.000000   6.494749  \n",
       "\n",
       "[2010 rows x 9 columns]"
      ]
     },
     "execution_count": 5,
     "metadata": {},
     "output_type": "execute_result"
    }
   ],
   "source": [
    "display(Markdown(\"#### Modus [*multivalued*]\"))\n",
    "\n",
    "no1.mode()"
   ]
  },
  {
   "cell_type": "code",
   "execution_count": 6,
   "metadata": {},
   "outputs": [],
   "source": [
    "def no2(kolom):\n",
    "    plt.subplot(1,2,1)\n",
    "    df[kolom].plot(kind=\"hist\",rwidth=0.85,figsize=(12,6), bins = 10)\n",
    "    plt.title(kolom)\n",
    "\n",
    "    plt.subplot(1, 2, 2)\n",
    "    df[kolom].plot(kind=\"box\",figsize=(12,6))\n",
    "    plt.title(kolom)\n",
    "    plt.show()"
   ]
  },
  {
   "cell_type": "markdown",
   "metadata": {},
   "source": [
    "### 2. Membuat visualisasi plot terdistribusi dalam bentuk histogram dan boxplot untuk setiap kolom numerik."
   ]
  },
  {
   "cell_type": "code",
   "execution_count": 7,
   "metadata": {},
   "outputs": [
    {
     "data": {
      "image/png": "[encoded data removed]",
      "text/plain": [
       "<Figure size 864x432 with 2 Axes>"
      ]
     },
     "metadata": {
      "needs_background": "light"
     },
     "output_type": "display_data"
    }
   ],
   "source": [
    "no2(\"pH\")"
   ]
  },
  {
   "cell_type": "markdown",
   "metadata": {},
   "source": [
    "Berdasarkan histogram yang terbentuk, terlihat bahwa diagram terdistribusi secara normal dan sedikit condong ke arah kanan (*positively skewed*). Berdasarkan box plot yang terbentuk, terlihat bahwa rentang antara titik minimum dan maksimum cukup kecil serta terdapat banyak titik *outliers* yang memiliki nilai lebih kecil dari titik minimum atau memiliki nilai lebih besar dari titik maksimum."
   ]
  },
  {
   "cell_type": "code",
   "execution_count": 8,
   "metadata": {},
   "outputs": [
    {
     "data": {
      "image/png": "[encoded data removed]",
      "text/plain": [
       "<Figure size 864x432 with 2 Axes>"
      ]
     },
     "metadata": {
      "needs_background": "light"
     },
     "output_type": "display_data"
    }
   ],
   "source": [
    "no2(\"Hardness\")"
   ]
  },
  {
   "cell_type": "markdown",
   "metadata": {},
   "source": [
    "Berdasarkan histogram yang terbentuk, terlihat bahwa diagram terdistribusi secara normal dan sedikit condong ke arah kiri (*negatively skewed*). Berdasarkan box plot yang terbentuk, terlihat bahwa rentang antara titik minimum dan maksimum cukup besar serta terdapat banyak titik *outliers* yang memiliki nilai lebih kecil dari titik minimum atau memiliki nilai lebih besar dari titik maksimum."
   ]
  },
  {
   "cell_type": "code",
   "execution_count": 9,
   "metadata": {},
   "outputs": [
    {
     "data": {
      "image/png": "[encoded data removed]",
      "text/plain": [
       "<Figure size 864x432 with 2 Axes>"
      ]
     },
     "metadata": {
      "needs_background": "light"
     },
     "output_type": "display_data"
    }
   ],
   "source": [
    "no2(\"Solids\")"
   ]
  },
  {
   "cell_type": "markdown",
   "metadata": {},
   "source": [
    "Berdasarkan histogram yang terbentuk, terlihat bahwa diagram terdistribusi secara normal dan condong ke arah kanan (*positively skewed*). Berdasarkan box plot yang terbentuk, terlihat bahwa rentang antara titik minimum dan maksimum sangat besar serta terdapat banyak titik *outliers* yang memiliki nilai lebih besar dari titik maksimum."
   ]
  },
  {
   "cell_type": "code",
   "execution_count": 10,
   "metadata": {},
   "outputs": [
    {
     "data": {
      "image/png": "[encoded data removed]",
      "text/plain": [
       "<Figure size 864x432 with 2 Axes>"
      ]
     },
     "metadata": {
      "needs_background": "light"
     },
     "output_type": "display_data"
    }
   ],
   "source": [
    "no2(\"Chloramines\")"
   ]
  },
  {
   "cell_type": "markdown",
   "metadata": {},
   "source": [
    "Berdasarkan histogram yang terbentuk, terlihat bahwa diagram terdistribusi secara normal dan tidak condong ke arah kiri maupun ke arah kanan (*no skew*). Berdasarkan box plot yang terbentuk, terlihat bahwa rentang antara titik minimum dan maksimum cukup kecil serta terdapat banyak titik *outliers* yang memiliki nilai lebih kecil dari titik minimum atau memiliki nilai lebih besar dari titik maksimum."
   ]
  },
  {
   "cell_type": "code",
   "execution_count": 11,
   "metadata": {},
   "outputs": [
    {
     "data": {
      "image/png": "[encoded data removed]",
      "text/plain": [
       "<Figure size 864x432 with 2 Axes>"
      ]
     },
     "metadata": {
      "needs_background": "light"
     },
     "output_type": "display_data"
    }
   ],
   "source": [
    "no2(\"Sulfate\")"
   ]
  },
  {
   "cell_type": "markdown",
   "metadata": {},
   "source": [
    "Berdasarkan histogram yang terbentuk, terlihat bahwa diagram terdistribusi secara normal dan sedikit condong ke arah kiri (*negatively skewed*). Berdasarkan box plot yang terbentuk, terlihat bahwa rentang antara titik minimum dan maksimum cukup besar serta terdapat banyak titik *outliers* yang memiliki nilai lebih kecil dari titik minimum atau memiliki nilai lebih besar dari titik maksimum."
   ]
  },
  {
   "cell_type": "code",
   "execution_count": 12,
   "metadata": {},
   "outputs": [
    {
     "data": {
      "image/png": "[encoded data removed]",
      "text/plain": [
       "<Figure size 864x432 with 2 Axes>"
      ]
     },
     "metadata": {
      "needs_background": "light"
     },
     "output_type": "display_data"
    }
   ],
   "source": [
    "no2(\"Conductivity\")"
   ]
  },
  {
   "cell_type": "markdown",
   "metadata": {},
   "source": [
    "Berdasarkan histogram yang terbentuk, terlihat bahwa diagram terdistribusi secara normal dan condong ke arah kanan (*positively skewed*). Berdasarkan box plot yang terbentuk, terlihat bahwa rentang antara titik minimum dan maksimum cukup besar serta terdapat sejumlah titik *outliers* yang memiliki nilai lebih besar dari titik maksimum."
   ]
  },
  {
   "cell_type": "code",
   "execution_count": 13,
   "metadata": {},
   "outputs": [
    {
     "data": {
      "image/png": "[encoded data removed]",
      "text/plain": [
       "<Figure size 864x432 with 2 Axes>"
      ]
     },
     "metadata": {
      "needs_background": "light"
     },
     "output_type": "display_data"
    }
   ],
   "source": [
    "no2(\"OrganicCarbon\")"
   ]
  },
  {
   "cell_type": "markdown",
   "metadata": {},
   "source": [
    "Berdasarkan histogram yang terbentuk, terlihat bahwa diagram terdistribusi secara normal dan tidak condong ke arah kiri maupun ke arah kanan (*no skew*). Berdasarkan box plot yang terbentuk, terlihat bahwa rentang antara titik minimum dan maksimum cukup kecil serta terdapat sejumlah titik *outliers* yang memiliki nilai lebih kecil dari titik minimum atau memiliki nilai lebih besar dari titik maksimum."
   ]
  },
  {
   "cell_type": "code",
   "execution_count": 14,
   "metadata": {},
   "outputs": [
    {
     "data": {
      "image/png": "[encoded data removed]",
      "text/plain": [
       "<Figure size 864x432 with 2 Axes>"
      ]
     },
     "metadata": {
      "needs_background": "light"
     },
     "output_type": "display_data"
    }
   ],
   "source": [
    "no2(\"Trihalomethanes\")"
   ]
  },
  {
   "cell_type": "markdown",
   "metadata": {},
   "source": [
    "Berdasarkan histogram yang terbentuk, terlihat bahwa diagram terdistribusi secara normal dan tidak condong ke arah kiri maupun ke arah kanan (*no skew*). Berdasarkan box plot yang terbentuk, terlihat bahwa rentang antara titik minimum dan maksimum cukup besar serta terdapat banyak titik *outliers* yang memiliki nilai lebih kecil dari titik minimum atau memiliki nilai lebih besar dari titik maksimum."
   ]
  },
  {
   "cell_type": "code",
   "execution_count": 15,
   "metadata": {},
   "outputs": [
    {
     "data": {
      "image/png": "[encoded data removed]",
      "text/plain": [
       "<Figure size 864x432 with 2 Axes>"
      ]
     },
     "metadata": {
      "needs_background": "light"
     },
     "output_type": "display_data"
    }
   ],
   "source": [
    "no2(\"Turbidity\")"
   ]
  },
  {
   "cell_type": "markdown",
   "metadata": {},
   "source": [
    "Berdasarkan histogram yang terbentuk, terlihat bahwa diagram terdistribusi secara normal dan tidak condong ke arah kiri maupun ke arah kanan (*no skew*). Berdasarkan box plot yang terbentuk, terlihat bahwa rentang antara titik minimum dan maksimum cukup kecil serta terdapat sejumlah titik *outliers* yang memiliki nilai lebih kecil dari titik minimum atau memiliki nilai lebih besar dari titik maksimum."
   ]
  },
  {
   "cell_type": "markdown",
   "metadata": {},
   "source": [
    "### 3. Menentukan setiap kolom numerik berdistribusi normal atau tidak."
   ]
  },
  {
   "cell_type": "code",
   "execution_count": 16,
   "metadata": {},
   "outputs": [],
   "source": [
    "import scipy.stats as st\n",
    "import warnings\n",
    "warnings.simplefilter(action=\"ignore\", category=FutureWarning)"
   ]
  },
  {
   "cell_type": "code",
   "execution_count": 17,
   "metadata": {},
   "outputs": [],
   "source": [
    "def no3(kolom):\n",
    "    stat, p = st.normaltest(df[kolom])\n",
    "    display(Markdown(\"D’Agostino’s K-squared Test, $p$ = %.10f\" % (p)))\n",
    "    if (p > 0.05):\n",
    "        display(Markdown(\"Kolom %s Berdistribusi Normal\" %(kolom)))\n",
    "    else:\n",
    "        display(Markdown(\"Kolom %s Tidak Berdistribusi Normal\" %(kolom)))\n",
    "\n",
    "    plt.subplots()\n",
    "    df[kolom].plot.hist(density=\"True\")\n",
    "    df[kolom].plot.kde(color=\"tab:blue\")\n",
    "    plt.title(kolom)\n",
    "    plt.show()"
   ]
  },
  {
   "cell_type": "code",
   "execution_count": 18,
   "metadata": {},
   "outputs": [
    {
     "data": {
      "text/markdown": [
       "D’Agostino’s K-squared Test, $p$ = 0.0000265148"
      ],
      "text/plain": [
       "<IPython.core.display.Markdown object>"
      ]
     },
     "metadata": {},
     "output_type": "display_data"
    },
    {
     "data": {
      "text/markdown": [
       "Kolom pH Tidak Berdistribusi Normal"
      ],
      "text/plain": [
       "<IPython.core.display.Markdown object>"
      ]
     },
     "metadata": {},
     "output_type": "display_data"
    },
    {
     "data": {
      "image/png": "[encoded data removed]",
      "text/plain": [
       "<Figure size 432x288 with 1 Axes>"
      ]
     },
     "metadata": {
      "needs_background": "light"
     },
     "output_type": "display_data"
    }
   ],
   "source": [
    "no3(\"pH\")"
   ]
  },
  {
   "cell_type": "code",
   "execution_count": 19,
   "metadata": {},
   "outputs": [
    {
     "data": {
      "text/markdown": [
       "D’Agostino’s K-squared Test, $p$ = 0.0001344243"
      ],
      "text/plain": [
       "<IPython.core.display.Markdown object>"
      ]
     },
     "metadata": {},
     "output_type": "display_data"
    },
    {
     "data": {
      "text/markdown": [
       "Kolom Hardness Tidak Berdistribusi Normal"
      ],
      "text/plain": [
       "<IPython.core.display.Markdown object>"
      ]
     },
     "metadata": {},
     "output_type": "display_data"
    },
    {
     "data": {
      "image/png": "[encoded data removed]",
      "text/plain": [
       "<Figure size 432x288 with 1 Axes>"
      ]
     },
     "metadata": {
      "needs_background": "light"
     },
     "output_type": "display_data"
    }
   ],
   "source": [
    "no3(\"Hardness\")"
   ]
  },
  {
   "cell_type": "code",
   "execution_count": 20,
   "metadata": {},
   "outputs": [
    {
     "data": {
      "text/markdown": [
       "D’Agostino’s K-squared Test, $p$ = 0.0000000000"
      ],
      "text/plain": [
       "<IPython.core.display.Markdown object>"
      ]
     },
     "metadata": {},
     "output_type": "display_data"
    },
    {
     "data": {
      "text/markdown": [
       "Kolom Solids Tidak Berdistribusi Normal"
      ],
      "text/plain": [
       "<IPython.core.display.Markdown object>"
      ]
     },
     "metadata": {},
     "output_type": "display_data"
    },
    {
     "data": {
      "image/png": "[encoded data removed]",
      "text/plain": [
       "<Figure size 432x288 with 1 Axes>"
      ]
     },
     "metadata": {
      "needs_background": "light"
     },
     "output_type": "display_data"
    }
   ],
   "source": [
    "no3(\"Solids\")"
   ]
  },
  {
   "cell_type": "code",
   "execution_count": 21,
   "metadata": {},
   "outputs": [
    {
     "data": {
      "text/markdown": [
       "D’Agostino’s K-squared Test, $p$ = 0.0002504832"
      ],
      "text/plain": [
       "<IPython.core.display.Markdown object>"
      ]
     },
     "metadata": {},
     "output_type": "display_data"
    },
    {
     "data": {
      "text/markdown": [
       "Kolom Chloramines Tidak Berdistribusi Normal"
      ],
      "text/plain": [
       "<IPython.core.display.Markdown object>"
      ]
     },
     "metadata": {},
     "output_type": "display_data"
    },
    {
     "data": {
      "image/png": "[encoded data removed]",
      "text/plain": [
       "<Figure size 432x288 with 1 Axes>"
      ]
     },
     "metadata": {
      "needs_background": "light"
     },
     "output_type": "display_data"
    }
   ],
   "source": [
    "no3(\"Chloramines\")"
   ]
  },
  {
   "cell_type": "code",
   "execution_count": 22,
   "metadata": {},
   "outputs": [
    {
     "data": {
      "text/markdown": [
       "D’Agostino’s K-squared Test, $p$ = 0.0000004426"
      ],
      "text/plain": [
       "<IPython.core.display.Markdown object>"
      ]
     },
     "metadata": {},
     "output_type": "display_data"
    },
    {
     "data": {
      "text/markdown": [
       "Kolom Sulfate Tidak Berdistribusi Normal"
      ],
      "text/plain": [
       "<IPython.core.display.Markdown object>"
      ]
     },
     "metadata": {},
     "output_type": "display_data"
    },
    {
     "data": {
      "image/png": "[encoded data removed]",
      "text/plain": [
       "<Figure size 432x288 with 1 Axes>"
      ]
     },
     "metadata": {
      "needs_background": "light"
     },
     "output_type": "display_data"
    }
   ],
   "source": [
    "no3(\"Sulfate\")"
   ]
  },
  {
   "cell_type": "code",
   "execution_count": 23,
   "metadata": {},
   "outputs": [
    {
     "data": {
      "text/markdown": [
       "D’Agostino’s K-squared Test, $p$ = 0.0000004390"
      ],
      "text/plain": [
       "<IPython.core.display.Markdown object>"
      ]
     },
     "metadata": {},
     "output_type": "display_data"
    },
    {
     "data": {
      "text/markdown": [
       "Kolom Conductivity Tidak Berdistribusi Normal"
      ],
      "text/plain": [
       "<IPython.core.display.Markdown object>"
      ]
     },
     "metadata": {},
     "output_type": "display_data"
    },
    {
     "data": {
      "image/png": "[encoded data removed]",
      "text/plain": [
       "<Figure size 432x288 with 1 Axes>"
      ]
     },
     "metadata": {
      "needs_background": "light"
     },
     "output_type": "display_data"
    }
   ],
   "source": [
    "no3(\"Conductivity\")"
   ]
  },
  {
   "cell_type": "code",
   "execution_count": 24,
   "metadata": {},
   "outputs": [
    {
     "data": {
      "text/markdown": [
       "D’Agostino’s K-squared Test, $p$ = 0.8825496581"
      ],
      "text/plain": [
       "<IPython.core.display.Markdown object>"
      ]
     },
     "metadata": {},
     "output_type": "display_data"
    },
    {
     "data": {
      "text/markdown": [
       "Kolom OrganicCarbon Berdistribusi Normal"
      ],
      "text/plain": [
       "<IPython.core.display.Markdown object>"
      ]
     },
     "metadata": {},
     "output_type": "display_data"
    },
    {
     "data": {
      "image/png": "[encoded data removed]",
      "text/plain": [
       "<Figure size 432x288 with 1 Axes>"
      ]
     },
     "metadata": {
      "needs_background": "light"
     },
     "output_type": "display_data"
    }
   ],
   "source": [
    "no3(\"OrganicCarbon\")"
   ]
  },
  {
   "cell_type": "code",
   "execution_count": 25,
   "metadata": {},
   "outputs": [
    {
     "data": {
      "text/markdown": [
       "D’Agostino’s K-squared Test, $p$ = 0.1043598442"
      ],
      "text/plain": [
       "<IPython.core.display.Markdown object>"
      ]
     },
     "metadata": {},
     "output_type": "display_data"
    },
    {
     "data": {
      "text/markdown": [
       "Kolom Trihalomethanes Berdistribusi Normal"
      ],
      "text/plain": [
       "<IPython.core.display.Markdown object>"
      ]
     },
     "metadata": {},
     "output_type": "display_data"
    },
    {
     "data": {
      "image/png": "[encoded data removed]",
      "text/plain": [
       "<Figure size 432x288 with 1 Axes>"
      ]
     },
     "metadata": {
      "needs_background": "light"
     },
     "output_type": "display_data"
    }
   ],
   "source": [
    "no3(\"Trihalomethanes\")"
   ]
  },
  {
   "cell_type": "code",
   "execution_count": 26,
   "metadata": {},
   "outputs": [
    {
     "data": {
      "text/markdown": [
       "D’Agostino’s K-squared Test, $p$ = 0.7694717370"
      ],
      "text/plain": [
       "<IPython.core.display.Markdown object>"
      ]
     },
     "metadata": {},
     "output_type": "display_data"
    },
    {
     "data": {
      "text/markdown": [
       "Kolom Turbidity Berdistribusi Normal"
      ],
      "text/plain": [
       "<IPython.core.display.Markdown object>"
      ]
     },
     "metadata": {},
     "output_type": "display_data"
    },
    {
     "data": {
      "image/png": "[encoded data removed]",
      "text/plain": [
       "<Figure size 432x288 with 1 Axes>"
      ]
     },
     "metadata": {
      "needs_background": "light"
     },
     "output_type": "display_data"
    }
   ],
   "source": [
    "no3(\"Turbidity\")"
   ]
  },
  {
   "cell_type": "markdown",
   "metadata": {},
   "source": [
    "### 4. Melakukan test hipotesis 1 sampel."
   ]
  },
  {
   "cell_type": "code",
   "execution_count": 27,
   "metadata": {},
   "outputs": [],
   "source": [
    "import scipy.stats as st\n",
    "from statsmodels.stats.weightstats import ztest\n",
    "from statsmodels.stats.proportion import proportions_ztest"
   ]
  },
  {
   "cell_type": "markdown",
   "metadata": {},
   "source": [
    "#### a. Nilai rata-rata pH di atas 7?"
   ]
  },
  {
   "cell_type": "markdown",
   "metadata": {},
   "source": [
    "$H_0$: Nilai rata-rata pH sama dengan $7$ ($μ = 7$)\n",
    "\n",
    "$H_1$: Nilai rata-rata pH lebih dari $7$ ($μ > 7$)\n",
    "\n",
    "Tingkat Signifikan: $\\alpha = 0.05$\n",
    "\n",
    "Uji Statistik: Single Sample Right Tailed Z Test dengan *Critical Section* $z > z_\\alpha$\n",
    "\n",
    "Rumus perhitungan nilai $z$:\n",
    "\n",
    "$$ z = \\frac{\\bar{x_{}} - μ_{0}} {\\sigma/\\sqrt{n}} $$\n",
    "\n",
    "Jika $z$ berada pada *critical section* ($z > z_\\alpha$), maka nilai $p < \\alpha$ dan $H_0$ ditolak\n",
    "\n",
    "Jika $z$ tidak berada pada *critical section* ($z ≤ z_\\alpha$), maka nilai $p ≥ \\alpha$ dan $H_0$ tidak ditolak"
   ]
  },
  {
   "cell_type": "code",
   "execution_count": 28,
   "metadata": {},
   "outputs": [
    {
     "data": {
      "text/plain": [
       "<AxesSubplot:>"
      ]
     },
     "execution_count": 28,
     "metadata": {},
     "output_type": "execute_result"
    },
    {
     "data": {
      "image/png": "[encoded data removed]",
      "text/plain": [
       "<Figure size 432x288 with 1 Axes>"
      ]
     },
     "metadata": {
      "needs_background": "light"
     },
     "output_type": "display_data"
    }
   ],
   "source": [
    "df[\"pH\"].plot(kind=\"box\")"
   ]
  },
  {
   "cell_type": "code",
   "execution_count": 29,
   "metadata": {},
   "outputs": [
    {
     "data": {
      "text/markdown": [
       "Didapatkan nilai $z = 2.4854$ dan $p = 0.0065$"
      ],
      "text/plain": [
       "<IPython.core.display.Markdown object>"
      ]
     },
     "metadata": {},
     "output_type": "display_data"
    },
    {
     "data": {
      "text/markdown": [
       "Didapatkan nilai $z_\\alpha = 1.6449$"
      ],
      "text/plain": [
       "<IPython.core.display.Markdown object>"
      ]
     },
     "metadata": {},
     "output_type": "display_data"
    },
    {
     "data": {
      "text/markdown": [
       "Keputusan: Tolak $H_0$ dikarenakan $z$ berada pada *critical section* ($z > 1.6449$)"
      ],
      "text/plain": [
       "<IPython.core.display.Markdown object>"
      ]
     },
     "metadata": {},
     "output_type": "display_data"
    },
    {
     "data": {
      "text/markdown": [
       "Tes Signifikan: Tolak $H_0$ dikarenakan $p$ lebih kecil dari tingkat signifikan yang diinginkan ($p < 0.05$)"
      ],
      "text/plain": [
       "<IPython.core.display.Markdown object>"
      ]
     },
     "metadata": {},
     "output_type": "display_data"
    },
    {
     "data": {
      "text/markdown": [
       "Jadi, nilai rata-rata pH lebih dari $7$"
      ],
      "text/plain": [
       "<IPython.core.display.Markdown object>"
      ]
     },
     "metadata": {},
     "output_type": "display_data"
    }
   ],
   "source": [
    "miu_0 = 7\n",
    "alpha = 0.05\n",
    "\n",
    "z, p = ztest(df[\"pH\"], value=miu_0, alternative=\"larger\")\n",
    "display(Markdown(f\"Didapatkan nilai $z = {round(z, 4)}$ dan $p = {round(p, 4)}$\"))\n",
    "\n",
    "z_alpha = st.norm.ppf(1 - alpha)\n",
    "display(Markdown(f\"Didapatkan nilai $z_\\\\alpha = {round(z_alpha, 4)}$\"))\n",
    "\n",
    "if z > z_alpha:\n",
    "    display(Markdown(f\"Keputusan: Tolak $H_0$ dikarenakan $z$ berada pada *critical section* ($z > {round(z_alpha, 4)}$)\"))\n",
    "    display(Markdown(f\"Tes Signifikan: Tolak $H_0$ dikarenakan $p$ lebih kecil dari tingkat signifikan yang diinginkan ($p < {alpha}$)\"))\n",
    "    display(Markdown(f\"Jadi, nilai rata-rata pH lebih dari ${miu_0}$\"))\n",
    "else:\n",
    "    display(Markdown(f\"Keputusan: Tidak menolak $H_0$ dikarenakan $z$ tidak berada pada *critical section* ($z ≤ {round(z_alpha, 4)}$)\"))\n",
    "    display(Markdown(f\"Tes Signifikan: Tidak menolak $H_0$ dikarenakan $p$ lebih besar atau sama dengan tingkat signifikan yang diinginkan ($p ≥ {alpha}$)\"))\n",
    "    display(Markdown(f\"Jadi, nilai rata-rata pH sama dengan ${miu_0}$\"))"
   ]
  },
  {
   "cell_type": "markdown",
   "metadata": {},
   "source": [
    "#### b. Nilai rata-rata Hardness tidak sama dengan 205?"
   ]
  },
  {
   "cell_type": "markdown",
   "metadata": {},
   "source": [
    "$H_0$: Nilai rata-rata Hardness sama dengan $205$ ($μ = 205$)\n",
    "\n",
    "$H_1$: Nilai rata-rata Hardness tidak sama dengan $205$ ($μ ≠ 205$)\n",
    "\n",
    "Tingkat Signifikan: $\\alpha = 0.05$\n",
    "\n",
    "Uji Statistik: Single Sample Two Tailed Z Test dengan *Critical Section* $z < -z_{\\alpha/2}$ atau $z > z_{\\alpha/2}$\n",
    "\n",
    "Rumus perhitungan nilai $z$:\n",
    "\n",
    "$$ z = \\frac{\\bar{x_{}} - μ_{0}} {\\sigma/\\sqrt{n}} $$\n",
    "\n",
    "Jika $z$ berada pada *critical section* ($z < -z_{\\alpha/2}$ atau $z > z_{\\alpha/2}$), maka nilai $p < \\alpha$ dan $H_0$ ditolak\n",
    "\n",
    "Jika $z$ tidak berada pada *critical section* ($z < -z_{\\alpha/2}$ atau $z > z_{\\alpha/2}$), maka nilai $p ≥ \\alpha$ dan $H_0$ tidak ditolak"
   ]
  },
  {
   "cell_type": "code",
   "execution_count": 30,
   "metadata": {},
   "outputs": [
    {
     "data": {
      "text/plain": [
       "<AxesSubplot:>"
      ]
     },
     "execution_count": 30,
     "metadata": {},
     "output_type": "execute_result"
    },
    {
     "data": {
      "image/png": "[encoded data removed]",
      "text/plain": [
       "<Figure size 432x288 with 1 Axes>"
      ]
     },
     "metadata": {
      "needs_background": "light"
     },
     "output_type": "display_data"
    }
   ],
   "source": [
    "df[\"Hardness\"].plot(kind=\"box\")"
   ]
  },
  {
   "cell_type": "code",
   "execution_count": 31,
   "metadata": {},
   "outputs": [
    {
     "data": {
      "text/markdown": [
       "Didapatkan nilai $z = -12.4031$ dan $p = 0.0$"
      ],
      "text/plain": [
       "<IPython.core.display.Markdown object>"
      ]
     },
     "metadata": {},
     "output_type": "display_data"
    },
    {
     "data": {
      "text/markdown": [
       "Didapatkan nilai $z_{\\alpha/2} = 1.96$"
      ],
      "text/plain": [
       "<IPython.core.display.Markdown object>"
      ]
     },
     "metadata": {},
     "output_type": "display_data"
    },
    {
     "data": {
      "text/markdown": [
       "Keputusan: Tolak $H_0$ dikarenakan $z$ berada pada *critical section* ($z < -1.96$ atau $z > 1.96$)"
      ],
      "text/plain": [
       "<IPython.core.display.Markdown object>"
      ]
     },
     "metadata": {},
     "output_type": "display_data"
    },
    {
     "data": {
      "text/markdown": [
       "Tes Signifikan: Tolak $H_0$ dikarenakan $p$ lebih kecil dari tingkat signifikan yang diinginkan ($p < 0.05$)"
      ],
      "text/plain": [
       "<IPython.core.display.Markdown object>"
      ]
     },
     "metadata": {},
     "output_type": "display_data"
    },
    {
     "data": {
      "text/markdown": [
       "Jadi, nilai rata-rata Hardness tidak sama dengan $205$"
      ],
      "text/plain": [
       "<IPython.core.display.Markdown object>"
      ]
     },
     "metadata": {},
     "output_type": "display_data"
    }
   ],
   "source": [
    "miu_0 = 205\n",
    "alpha = 0.05\n",
    "\n",
    "z, p = ztest(df[\"Hardness\"], value=miu_0, alternative=\"two-sided\")\n",
    "display(Markdown(f\"Didapatkan nilai $z = {round(z, 4)}$ dan $p = {round(p, 4)}$\"))\n",
    "\n",
    "z_alpha_per_dua = st.norm.ppf(1 - alpha / 2)\n",
    "display(Markdown(f\"Didapatkan nilai $z_{{\\\\alpha/2}} = {round(z_alpha_per_dua, 4)}$\"))\n",
    "\n",
    "if z < -z_alpha_per_dua or z > z_alpha_per_dua:\n",
    "    display(Markdown(f\"Keputusan: Tolak $H_0$ dikarenakan $z$ berada pada *critical section* ($z < {round(-z_alpha_per_dua, 4)}$ atau $z > {round(z_alpha_per_dua, 4)}$)\"))\n",
    "    display(Markdown(f\"Tes Signifikan: Tolak $H_0$ dikarenakan $p$ lebih kecil dari tingkat signifikan yang diinginkan ($p < {alpha}$)\"))\n",
    "    display(Markdown(f\"Jadi, nilai rata-rata Hardness tidak sama dengan ${miu_0}$\"))\n",
    "else:\n",
    "    display(Markdown(f\"Keputusan: Tidak menolak $H_0$ dikarenakan $z$ tidak berada pada *critical section* (${round(-z_alpha_per_dua, 4)} ≤ z ≤ {round(z_alpha_per_dua, 4)}$)\"))\n",
    "    display(Markdown(f\"Tes Signifikan: Tidak menolak $H_0$ dikarenakan $p$ lebih besar atau sama dengan tingkat signifikan yang diinginkan ($p ≥ {alpha}$)\"))\n",
    "    display(Markdown(f\"Jadi, nilai rata-rata Hardness sama dengan ${miu_0}$\"))"
   ]
  },
  {
   "cell_type": "markdown",
   "metadata": {},
   "source": [
    "#### c. Nilai rata-rata 100 baris pertama kolom Solids bukan 21900?"
   ]
  },
  {
   "cell_type": "markdown",
   "metadata": {},
   "source": [
    "$H_0$: Nilai rata-rata 100 baris pertama kolom Solids sama dengan $21900$ ($μ = 21900$)\n",
    "\n",
    "$H_1$: Nilai rata-rata 100 baris pertama kolom Solids tidak sama dengan $21900$ ($μ ≠ 21900$)\n",
    "\n",
    "Tingkat Signifikan: $\\alpha = 0.05$\n",
    "\n",
    "Uji Statistik: Single Sample Two Tailed Z Test dengan *Critical Section* $z < -z_{\\alpha/2}$ atau $z > z_{\\alpha/2}$\n",
    "\n",
    "Rumus perhitungan nilai $z$:\n",
    "\n",
    "$$ z = \\frac{\\bar{x_{}} - μ_{0}} {\\sigma/\\sqrt{n}} $$\n",
    "\n",
    "Jika $z$ berada pada *critical section* ($z < -z_{\\alpha/2}$ atau $z > z_{\\alpha/2}$), maka nilai $p < \\alpha$ dan $H_0$ ditolak\n",
    "\n",
    "Jika $z$ tidak berada pada *critical section* ($z < -z_{\\alpha/2}$ atau $z > z_{\\alpha/2}$), maka nilai $p ≥ \\alpha$ dan $H_0$ tidak ditolak"
   ]
  },
  {
   "cell_type": "code",
   "execution_count": 32,
   "metadata": {},
   "outputs": [
    {
     "data": {
      "text/plain": [
       "<AxesSubplot:>"
      ]
     },
     "execution_count": 32,
     "metadata": {},
     "output_type": "execute_result"
    },
    {
     "data": {
      "image/png": "[encoded data removed]",
      "text/plain": [
       "<Figure size 432x288 with 1 Axes>"
      ]
     },
     "metadata": {
      "needs_background": "light"
     },
     "output_type": "display_data"
    }
   ],
   "source": [
    "df[\"Solids\"].head(100).plot(kind=\"box\")"
   ]
  },
  {
   "cell_type": "code",
   "execution_count": 33,
   "metadata": {},
   "outputs": [
    {
     "data": {
      "text/markdown": [
       "Didapatkan nilai $z = 0.5637$ dan $p = 0.573$"
      ],
      "text/plain": [
       "<IPython.core.display.Markdown object>"
      ]
     },
     "metadata": {},
     "output_type": "display_data"
    },
    {
     "data": {
      "text/markdown": [
       "Didapatkan nilai $z_{\\alpha/2} = 1.96$"
      ],
      "text/plain": [
       "<IPython.core.display.Markdown object>"
      ]
     },
     "metadata": {},
     "output_type": "display_data"
    },
    {
     "data": {
      "text/markdown": [
       "Keputusan: Tidak menolak $H_0$ dikarenakan $z$ tidak berada pada *critical section* ($-1.96 ≤ z ≤ 1.96$)"
      ],
      "text/plain": [
       "<IPython.core.display.Markdown object>"
      ]
     },
     "metadata": {},
     "output_type": "display_data"
    },
    {
     "data": {
      "text/markdown": [
       "Tes Signifikan: Tidak menolak $H_0$ dikarenakan $p$ lebih besar atau sama dengan tingkat signifikan yang diinginkan ($p ≥ 0.05$)"
      ],
      "text/plain": [
       "<IPython.core.display.Markdown object>"
      ]
     },
     "metadata": {},
     "output_type": "display_data"
    },
    {
     "data": {
      "text/markdown": [
       "Jadi, nilai rata-rata 100 baris pertama kolom Solids sama dengan $21900$"
      ],
      "text/plain": [
       "<IPython.core.display.Markdown object>"
      ]
     },
     "metadata": {},
     "output_type": "display_data"
    }
   ],
   "source": [
    "miu_0 = 21900\n",
    "alpha = 0.05\n",
    "\n",
    "z, p = ztest(df[\"Solids\"].head(100), value=miu_0, alternative=\"two-sided\")\n",
    "display(Markdown(f\"Didapatkan nilai $z = {round(z, 4)}$ dan $p = {round(p, 4)}$\"))\n",
    "\n",
    "z_alpha_per_dua = st.norm.ppf(1 - alpha / 2)\n",
    "display(Markdown(f\"Didapatkan nilai $z_{{\\\\alpha/2}} = {round(z_alpha_per_dua, 4)}$\"))\n",
    "\n",
    "if z < -z_alpha_per_dua or z > z_alpha_per_dua:\n",
    "    display(Markdown(f\"Keputusan: Tolak $H_0$ dikarenakan $z$ berada pada *critical section* ($z < {round(-z_alpha_per_dua, 4)}$ atau $z > {round(z_alpha_per_dua, 4)}$)\"))\n",
    "    display(Markdown(f\"Tes Signifikan: Tolak $H_0$ dikarenakan $p$ lebih kecil dari tingkat signifikan yang diinginkan ($p < {alpha}$)\"))\n",
    "    display(Markdown(f\"Jadi, nilai rata-rata 100 baris pertama kolom Solids tidak sama dengan ${miu_0}$\"))\n",
    "else:\n",
    "    display(Markdown(f\"Keputusan: Tidak menolak $H_0$ dikarenakan $z$ tidak berada pada *critical section* (${round(-z_alpha_per_dua, 4)} ≤ z ≤ {round(z_alpha_per_dua, 4)}$)\"))\n",
    "    display(Markdown(f\"Tes Signifikan: Tidak menolak $H_0$ dikarenakan $p$ lebih besar atau sama dengan tingkat signifikan yang diinginkan ($p ≥ {alpha}$)\"))\n",
    "    display(Markdown(f\"Jadi, nilai rata-rata 100 baris pertama kolom Solids sama dengan ${miu_0}$\"))"
   ]
  },
  {
   "cell_type": "markdown",
   "metadata": {},
   "source": [
    "#### d. Proporsi nilai Conductivity yang lebih dari 450, adalah tidak sama dengan 10%?"
   ]
  },
  {
   "cell_type": "markdown",
   "metadata": {},
   "source": [
    "$H_0$: Persentase nilai Conductivity yang lebih dari $450$ adalah sama dengan $10\\%$ ($p_{0} = 0.10$)\n",
    "\n",
    "$H_1$: Persentase nilai Conductivity yang lebih dari $450$ adalah tidak sama dengan $10\\%$ ($p_{0} ≠ 0.10$)\n",
    "\n",
    "Tingkat Signifikan: $\\alpha = 0.05$\n",
    "\n",
    "Uji Statistik: Single Sample Two Tailed One Proportion Z Test dengan *Critical Section* $z < -z_{\\alpha/2}$ atau $z > z_{\\alpha/2}$\n",
    "\n",
    "Rumus perhitungan nilai $z$:\n",
    "\n",
    "$$ z = \\frac{\\hat{p} - p_{0}} {\\sqrt{p_{0}q_{0}/n}} $$\n",
    "\n",
    "Jika $z$ berada pada *critical section* ($z < -z_{\\alpha/2}$ atau $z > z_{\\alpha/2}$), maka nilai $p < \\alpha$ dan $H_0$ ditolak\n",
    "\n",
    "Jika $z$ tidak berada pada *critical section* ($z < -z_{\\alpha/2}$ atau $z > z_{\\alpha/2}$), maka nilai $p ≥ \\alpha$ dan $H_0$ tidak ditolak"
   ]
  },
  {
   "cell_type": "code",
   "execution_count": 34,
   "metadata": {},
   "outputs": [
    {
     "data": {
      "text/plain": [
       "<AxesSubplot:>"
      ]
     },
     "execution_count": 34,
     "metadata": {},
     "output_type": "execute_result"
    },
    {
     "data": {
      "image/png": "[encoded data removed]",
      "text/plain": [
       "<Figure size 432x288 with 1 Axes>"
      ]
     },
     "metadata": {
      "needs_background": "light"
     },
     "output_type": "display_data"
    }
   ],
   "source": [
    "df[\"Conductivity\"].plot(kind=\"box\")"
   ]
  },
  {
   "cell_type": "code",
   "execution_count": 58,
   "metadata": {},
   "outputs": [
    {
     "data": {
      "text/markdown": [
       "Didapatkan nilai $z = 40.4464$ dan $p = 0.0$"
      ],
      "text/plain": [
       "<IPython.core.display.Markdown object>"
      ]
     },
     "metadata": {},
     "output_type": "display_data"
    },
    {
     "data": {
      "text/markdown": [
       "Didapatkan nilai $z_{\\alpha/2} = 1.96$"
      ],
      "text/plain": [
       "<IPython.core.display.Markdown object>"
      ]
     },
     "metadata": {},
     "output_type": "display_data"
    },
    {
     "data": {
      "text/markdown": [
       "Keputusan: Tolak $H_0$ dikarenakan $z$ berada pada *critical section* ($z < -1.96$ atau $z > 1.96$)"
      ],
      "text/plain": [
       "<IPython.core.display.Markdown object>"
      ]
     },
     "metadata": {},
     "output_type": "display_data"
    },
    {
     "data": {
      "text/markdown": [
       "Tes Signifikan: Tolak $H_0$ dikarenakan $p$ lebih kecil dari tingkat signifikan yang diinginkan ($p < 0.05$)"
      ],
      "text/plain": [
       "<IPython.core.display.Markdown object>"
      ]
     },
     "metadata": {},
     "output_type": "display_data"
    },
    {
     "data": {
      "text/markdown": [
       "Jadi, persentase nilai Conductivity yang lebih dari $450$ adalah tidak sama dengan $0.1$"
      ],
      "text/plain": [
       "<IPython.core.display.Markdown object>"
      ]
     },
     "metadata": {},
     "output_type": "display_data"
    }
   ],
   "source": [
    "p_nol = 0.10\n",
    "alpha = 0.05\n",
    "\n",
    "z, p = proportions_ztest(len(df[df[\"Conductivity\"] > 450]), len(df), value=p_nol, alternative=\"two-sided\", prop_var=p_nol)\n",
    "display(Markdown(f\"Didapatkan nilai $z = {round(z, 4)}$ dan $p = {round(p, 4)}$\"))\n",
    "\n",
    "z_alpha_per_dua = st.norm.ppf(1 - alpha / 2)\n",
    "display(Markdown(f\"Didapatkan nilai $z_{{\\\\alpha/2}} = {round(z_alpha_per_dua, 4)}$\"))\n",
    "\n",
    "if z < -z_alpha_per_dua or z > z_alpha_per_dua:\n",
    "    display(Markdown(f\"Keputusan: Tolak $H_0$ dikarenakan $z$ berada pada *critical section* ($z < {round(-z_alpha_per_dua, 4)}$ atau $z > {round(z_alpha_per_dua, 4)}$)\"))\n",
    "    display(Markdown(f\"Tes Signifikan: Tolak $H_0$ dikarenakan $p$ lebih kecil dari tingkat signifikan yang diinginkan ($p < {alpha}$)\"))\n",
    "    display(Markdown(f\"Jadi, persentase nilai Conductivity yang lebih dari $450$ adalah tidak sama dengan ${p_nol}$\"))\n",
    "else:\n",
    "    display(Markdown(f\"Keputusan: Tidak menolak $H_0$ dikarenakan $z$ tidak berada pada *critical section* (${round(-z_alpha_per_dua, 4)} ≤ z ≤ {round(z_alpha_per_dua, 4)}$)\"))\n",
    "    display(Markdown(f\"Tes Signifikan: Tidak menolak $H_0$ dikarenakan $p$ lebih besar atau sama dengan tingkat signifikan yang diinginkan ($p ≥ {alpha}$)\"))\n",
    "    display(Markdown(f\"Jadi, persentase nilai Conductivity yang lebih dari $450$ adalah sama dengan ${p_nol}$\"))"
   ]
  },
  {
   "cell_type": "markdown",
   "metadata": {},
   "source": [
    "#### e. Proporsi nilai Trihalomethanes yang kurang dari 40, adalah kurang dari 5%?"
   ]
  },
  {
   "cell_type": "markdown",
   "metadata": {},
   "source": [
    "$H_0$: Persentase nilai Conductivity yang lebih dari $450$ adalah sama dengan $5\\%$ ($p_{0} = 0.05$)\n",
    "\n",
    "$H_1$: Persentase nilai Conductivity yang lebih dari $450$ adalah kurang dari $5\\%$ ($p_{0} < 0.05$)\n",
    "\n",
    "Tingkat Signifikan: $\\alpha = 0.05$\n",
    "\n",
    "Uji Statistik: Single Sample Left Tailed One Proportion Z Test dengan *Critical Section* $z < z_\\alpha$\n",
    "\n",
    "Rumus perhitungan nilai $z$:\n",
    "\n",
    "$$ z = \\frac{\\hat{p} - p_{0}} {\\sqrt{p_{0}q_{0}/n}} $$\n",
    "\n",
    "Jika $z$ berada pada *critical section* ($z < z_\\alpha$), maka nilai $p < \\alpha$ dan $H_0$ ditolak\n",
    "\n",
    "Jika $z$ tidak berada pada *critical section* ($z ≥ z_\\alpha$), maka nilai $p ≥ \\alpha$ dan $H_0$ tidak ditolak"
   ]
  },
  {
   "cell_type": "code",
   "execution_count": 36,
   "metadata": {},
   "outputs": [
    {
     "data": {
      "text/plain": [
       "<AxesSubplot:>"
      ]
     },
     "execution_count": 36,
     "metadata": {},
     "output_type": "execute_result"
    },
    {
     "data": {
      "image/png": "[encoded data removed]",
      "text/plain": [
       "<Figure size 432x288 with 1 Axes>"
      ]
     },
     "metadata": {
      "needs_background": "light"
     },
     "output_type": "display_data"
    }
   ],
   "source": [
    "df[\"Trihalomethanes\"].plot(kind=\"box\")"
   ]
  },
  {
   "cell_type": "code",
   "execution_count": 37,
   "metadata": {},
   "outputs": [
    {
     "data": {
      "text/markdown": [
       "Didapatkan nilai $z = 0.5489$ dan $p = 0.7085$"
      ],
      "text/plain": [
       "<IPython.core.display.Markdown object>"
      ]
     },
     "metadata": {},
     "output_type": "display_data"
    },
    {
     "data": {
      "text/markdown": [
       "Didapatkan nilai $z_{\\alpha} = 1.6449$"
      ],
      "text/plain": [
       "<IPython.core.display.Markdown object>"
      ]
     },
     "metadata": {},
     "output_type": "display_data"
    },
    {
     "data": {
      "text/markdown": [
       "Keputusan: Tidak menolak $H_0$ dikarenakan $z$ tidak berada pada *critical section* ($z ≥ -1.6449$)"
      ],
      "text/plain": [
       "<IPython.core.display.Markdown object>"
      ]
     },
     "metadata": {},
     "output_type": "display_data"
    },
    {
     "data": {
      "text/markdown": [
       "Tes Signifikan: Tidak menolak $H_0$ dikarenakan $p$ lebih besar atau sama dengan tingkat signifikan yang diinginkan ($p ≥ 0.05$)"
      ],
      "text/plain": [
       "<IPython.core.display.Markdown object>"
      ]
     },
     "metadata": {},
     "output_type": "display_data"
    },
    {
     "data": {
      "text/markdown": [
       "Jadi, persentase nilai Trihalomethanes yang kurang dari $40$ adalah sama dengan $0.05$"
      ],
      "text/plain": [
       "<IPython.core.display.Markdown object>"
      ]
     },
     "metadata": {},
     "output_type": "display_data"
    }
   ],
   "source": [
    "p_nol = 0.05\n",
    "alpha = 0.05\n",
    "\n",
    "z, p = proportions_ztest(len(df[df[\"Trihalomethanes\"] < 40]), len(df), value=p_nol, alternative=\"smaller\")\n",
    "display(Markdown(f\"Didapatkan nilai $z = {round(z, 4)}$ dan $p = {round(p, 4)}$\"))\n",
    "\n",
    "z_alpha = st.norm.ppf(1 - alpha)\n",
    "display(Markdown(f\"Didapatkan nilai $z_{{\\\\alpha}} = {round(z_alpha, 4)}$\"))\n",
    "\n",
    "if z < -z_alpha:\n",
    "    display(Markdown(f\"Keputusan: Tolak $H_0$ dikarenakan $z$ berada pada *critical section* ($z < {round(-z_alpha, 4)}$)\"))\n",
    "    display(Markdown(f\"Tes Signifikan: Tolak $H_0$ dikarenakan $p$ lebih kecil dari tingkat signifikan yang diinginkan ($p < {alpha}$)\"))\n",
    "    display(Markdown(f\"Jadi, persentase nilai Trihalomethanes yang kurang dari $40$ adalah kurang dari ${p_nol}$\"))\n",
    "else:\n",
    "    display(Markdown(f\"Keputusan: Tidak menolak $H_0$ dikarenakan $z$ tidak berada pada *critical section* ($z ≥ {round(-z_alpha, 4)}$)\"))\n",
    "    display(Markdown(f\"Tes Signifikan: Tidak menolak $H_0$ dikarenakan $p$ lebih besar atau sama dengan tingkat signifikan yang diinginkan ($p ≥ {alpha}$)\"))\n",
    "    display(Markdown(f\"Jadi, persentase nilai Trihalomethanes yang kurang dari $40$ adalah sama dengan ${p_nol}$\"))"
   ]
  },
  {
   "cell_type": "markdown",
   "metadata": {},
   "source": [
    "### 5. Melakukan test hipotesis 2 sampel."
   ]
  },
  {
   "cell_type": "markdown",
   "metadata": {},
   "source": [
    "#### a. Data kolom Sulfate dibagi sama rata: bagian awal dan bagian akhir kolom. Benarkah rata-rata kedua bagian tersebut sama?"
   ]
  },
  {
   "cell_type": "markdown",
   "metadata": {},
   "source": [
    "$H_0$: Nilai rata-rata kolom awal Sulfate sama dengan nilai rata-rata kolom akhir Sulfate ($μ_{1} - μ_{2} = 0$)\n",
    "\n",
    "$H_1$: Nilai rata-rata kolom awal Sulfate tidak sama dengan nilai rata-rata kolom akhir Sulfate ($μ_{1} - μ_{2} ≠ 0$)\n",
    "\n",
    "Tingkat Signifikan: $\\alpha = 0.05$\n",
    "\n",
    "Uji Statistik: Double Sample Two Tailed Z Test dengan *Critical Section* $z < -z_{\\alpha/2}$ atau $z > z_{\\alpha/2}$\n",
    "\n",
    "Rumus perhitungan nilai $z$:\n",
    "\n",
    "$$ z = \\frac{(\\bar{x_{1}} - \\bar{x_{2}}) - (μ_{1} - μ_{2})} {\\sqrt{\\sigma_{1}^{2}/n_{1} + \\sigma_{2}^{2}/n_{2}}} $$\n",
    "\n",
    "Jika $z$ berada pada *critical section* ($z < -z_{\\alpha/2}$ atau $z > z_{\\alpha/2}$), maka nilai $p < \\alpha$ dan $H_0$ ditolak\n",
    "\n",
    "Jika $z$ tidak berada pada *critical section* ($z < -z_{\\alpha/2}$ atau $z > z_{\\alpha/2}$), maka nilai $p ≥ \\alpha$ dan $H_0$ tidak ditolak"
   ]
  },
  {
   "cell_type": "code",
   "execution_count": 38,
   "metadata": {},
   "outputs": [
    {
     "data": {
      "text/plain": [
       "<AxesSubplot:>"
      ]
     },
     "execution_count": 38,
     "metadata": {},
     "output_type": "execute_result"
    },
    {
     "data": {
      "image/png": "[encoded data removed]",
      "text/plain": [
       "<Figure size 432x288 with 1 Axes>"
      ]
     },
     "metadata": {
      "needs_background": "light"
     },
     "output_type": "display_data"
    }
   ],
   "source": [
    "df[\"Sulfate\"][:len(df) // 2].plot(kind=\"box\")"
   ]
  },
  {
   "cell_type": "code",
   "execution_count": 39,
   "metadata": {},
   "outputs": [
    {
     "data": {
      "text/plain": [
       "<AxesSubplot:>"
      ]
     },
     "execution_count": 39,
     "metadata": {},
     "output_type": "execute_result"
    },
    {
     "data": {
      "image/png": "[encoded data removed]",
      "text/plain": [
       "<Figure size 432x288 with 1 Axes>"
      ]
     },
     "metadata": {
      "needs_background": "light"
     },
     "output_type": "display_data"
    }
   ],
   "source": [
    "df[\"Sulfate\"][len(df) // 2:].plot(kind=\"box\")"
   ]
  },
  {
   "cell_type": "code",
   "execution_count": 40,
   "metadata": {},
   "outputs": [
    {
     "data": {
      "text/markdown": [
       "Didapatkan nilai $z = 2.0753$ dan $p = 0.038$"
      ],
      "text/plain": [
       "<IPython.core.display.Markdown object>"
      ]
     },
     "metadata": {},
     "output_type": "display_data"
    },
    {
     "data": {
      "text/markdown": [
       "Didapatkan nilai $z_{\\alpha/2} = 1.96$"
      ],
      "text/plain": [
       "<IPython.core.display.Markdown object>"
      ]
     },
     "metadata": {},
     "output_type": "display_data"
    },
    {
     "data": {
      "text/markdown": [
       "Keputusan: Tolak $H_0$ dikarenakan $z$ berada pada *critical section* ($z < -1.96$ atau $z > 1.96$)"
      ],
      "text/plain": [
       "<IPython.core.display.Markdown object>"
      ]
     },
     "metadata": {},
     "output_type": "display_data"
    },
    {
     "data": {
      "text/markdown": [
       "Tes Signifikan: Tolak $H_0$ dikarenakan $p$ lebih kecil dari tingkat signifikan yang diinginkan ($p < 0.05$)"
      ],
      "text/plain": [
       "<IPython.core.display.Markdown object>"
      ]
     },
     "metadata": {},
     "output_type": "display_data"
    },
    {
     "data": {
      "text/markdown": [
       "Jadi, nilai rata-rata kolom awal Sulfate tidak sama dengan nilai rata-rata kolom akhir Sulfate ($μ_{1} - μ_{2} ≠ 0$)"
      ],
      "text/plain": [
       "<IPython.core.display.Markdown object>"
      ]
     },
     "metadata": {},
     "output_type": "display_data"
    }
   ],
   "source": [
    "delta_miu = 0\n",
    "alpha = 0.05\n",
    "\n",
    "z, p = ztest(df[\"Sulfate\"][len(df) // 2:], df[\"Sulfate\"][:len(df) // 2], value=delta_miu, alternative=\"two-sided\")\n",
    "display(Markdown(f\"Didapatkan nilai $z = {round(z, 4)}$ dan $p = {round(p, 4)}$\"))\n",
    "\n",
    "z_alpha_per_dua = st.norm.ppf(1 - alpha / 2)\n",
    "display(Markdown(f\"Didapatkan nilai $z_{{\\\\alpha/2}} = {round(z_alpha_per_dua, 4)}$\"))\n",
    "\n",
    "if z < -z_alpha_per_dua or z > z_alpha_per_dua:\n",
    "    display(Markdown(f\"Keputusan: Tolak $H_0$ dikarenakan $z$ berada pada *critical section* ($z < {round(-z_alpha_per_dua, 4)}$ atau $z > {round(z_alpha_per_dua, 4)}$)\"))\n",
    "    display(Markdown(f\"Tes Signifikan: Tolak $H_0$ dikarenakan $p$ lebih kecil dari tingkat signifikan yang diinginkan ($p < {alpha}$)\"))\n",
    "    display(Markdown(f\"Jadi, nilai rata-rata kolom awal Sulfate tidak sama dengan nilai rata-rata kolom akhir Sulfate ($μ_{{1}} - μ_{{2}} ≠ {delta_miu}$)\"))\n",
    "else:\n",
    "    display(Markdown(f\"Keputusan: Tidak menolak $H_0$ dikarenakan $z$ tidak berada pada *critical section* (${round(-z_alpha_per_dua, 4)} ≤ z ≤ {round(z_alpha_per_dua, 4)}$)\"))\n",
    "    display(Markdown(f\"Tes Signifikan: Tidak menolak $H_0$ dikarenakan $p$ lebih besar atau sama dengan tingkat signifikan yang diinginkan ($p ≥ {alpha}$)\"))\n",
    "    display(Markdown(f\"Jadi, nilai rata-rata kolom awal Sulfate sama dengan nilai rata-rata kolom akhir Sulfate ($μ_{{1}} - μ_{{2}} = {delta_miu}$)\"))"
   ]
  },
  {
   "cell_type": "markdown",
   "metadata": {},
   "source": [
    "#### b. Data kolom OrganicCarbon dibagi sama rata: bagian awal dan bagian akhir kolom. Benarkah rata-rata bagian awal lebih besar daripada bagian akhir sebesar 0.15?"
   ]
  },
  {
   "cell_type": "markdown",
   "metadata": {},
   "source": [
    "$H_0$: Perbedaan nilai rata-rata kolom awal OrganicCarbon dengan nilai rata-rata kolom akhir OrganicCarbon sama dengan 0.15 ($μ_{1} - μ_{2} = 0.15$)\n",
    "\n",
    "$H_1$: Perbedaan nilai rata-rata kolom awal OrganicCarbon dengan nilai rata-rata kolom akhir OrganicCarbon tidak sama dengan 0.15 ($μ_{1} - μ_{2} ≠ 0.15$)\n",
    "\n",
    "Tingkat Signifikan: $\\alpha = 0.05$\n",
    "\n",
    "Uji Statistik: Double Sample Two Tailed Z Test dengan *Critical Section* $z < -z_{\\alpha/2}$ atau $z > z_{\\alpha/2}$\n",
    "\n",
    "Rumus perhitungan nilai $z$:\n",
    "\n",
    "$$ z = \\frac{(\\bar{x_{1}} - \\bar{x_{2}}) - (μ_{1} - μ_{2})} {\\sqrt{\\sigma_{1}^{2}/n_{1} + \\sigma_{2}^{2}/n_{2}}} $$\n",
    "\n",
    "Jika $z$ berada pada *critical section* ($z < -z_{\\alpha/2}$ atau $z > z_{\\alpha/2}$), maka nilai $p < \\alpha$ dan $H_0$ ditolak\n",
    "\n",
    "Jika $z$ tidak berada pada *critical section* ($z < -z_{\\alpha/2}$ atau $z > z_{\\alpha/2}$), maka nilai $p ≥ \\alpha$ dan $H_0$ tidak ditolak"
   ]
  },
  {
   "cell_type": "code",
   "execution_count": 41,
   "metadata": {},
   "outputs": [
    {
     "data": {
      "text/plain": [
       "<AxesSubplot:>"
      ]
     },
     "execution_count": 41,
     "metadata": {},
     "output_type": "execute_result"
    },
    {
     "data": {
      "image/png": "[encoded data removed]",
      "text/plain": [
       "<Figure size 432x288 with 1 Axes>"
      ]
     },
     "metadata": {
      "needs_background": "light"
     },
     "output_type": "display_data"
    }
   ],
   "source": [
    "df[\"OrganicCarbon\"][:len(df) // 2].plot(kind=\"box\")"
   ]
  },
  {
   "cell_type": "code",
   "execution_count": 42,
   "metadata": {},
   "outputs": [
    {
     "data": {
      "text/plain": [
       "<AxesSubplot:>"
      ]
     },
     "execution_count": 42,
     "metadata": {},
     "output_type": "execute_result"
    },
    {
     "data": {
      "image/png": "[encoded data removed]",
      "text/plain": [
       "<Figure size 432x288 with 1 Axes>"
      ]
     },
     "metadata": {
      "needs_background": "light"
     },
     "output_type": "display_data"
    }
   ],
   "source": [
    "df[\"OrganicCarbon\"][len(df) // 2:].plot(kind=\"box\")"
   ]
  },
  {
   "cell_type": "code",
   "execution_count": 43,
   "metadata": {},
   "outputs": [
    {
     "data": {
      "text/markdown": [
       "Didapatkan nilai $z = -2.4131$ dan $p = 0.0158$"
      ],
      "text/plain": [
       "<IPython.core.display.Markdown object>"
      ]
     },
     "metadata": {},
     "output_type": "display_data"
    },
    {
     "data": {
      "text/markdown": [
       "Didapatkan nilai $z_{\\alpha/2} = 1.96$"
      ],
      "text/plain": [
       "<IPython.core.display.Markdown object>"
      ]
     },
     "metadata": {},
     "output_type": "display_data"
    },
    {
     "data": {
      "text/markdown": [
       "Keputusan: Tolak $H_0$ dikarenakan $z$ berada pada *critical section* ($z < -1.96$ atau $z > 1.96$)"
      ],
      "text/plain": [
       "<IPython.core.display.Markdown object>"
      ]
     },
     "metadata": {},
     "output_type": "display_data"
    },
    {
     "data": {
      "text/markdown": [
       "Tes Signifikan: Tolak $H_0$ dikarenakan $p$ lebih kecil dari tingkat signifikan yang diinginkan ($p < 0.05$)"
      ],
      "text/plain": [
       "<IPython.core.display.Markdown object>"
      ]
     },
     "metadata": {},
     "output_type": "display_data"
    },
    {
     "data": {
      "text/markdown": [
       "Jadi, perbedaan nilai rata-rata kolom awal OrganicCarbon dengan nilai rata-rata kolom akhir OrganicCarbon tidak sama dengan 0.15 ($μ_{1} - μ_{2} ≠ 0.15$)"
      ],
      "text/plain": [
       "<IPython.core.display.Markdown object>"
      ]
     },
     "metadata": {},
     "output_type": "display_data"
    }
   ],
   "source": [
    "delta_miu = 0.15\n",
    "alpha = 0.05\n",
    "\n",
    "z, p = ztest(df[\"OrganicCarbon\"][:len(df) // 2], df[\"OrganicCarbon\"][len(df) // 2:], value=delta_miu, alternative=\"two-sided\")\n",
    "display(Markdown(f\"Didapatkan nilai $z = {round(z, 4)}$ dan $p = {round(p, 4)}$\"))\n",
    "\n",
    "z_alpha_per_dua = st.norm.ppf(1 - alpha / 2)\n",
    "display(Markdown(f\"Didapatkan nilai $z_{{\\\\alpha/2}} = {round(z_alpha_per_dua, 4)}$\"))\n",
    "\n",
    "if z < -z_alpha_per_dua or z > z_alpha_per_dua:\n",
    "    display(Markdown(f\"Keputusan: Tolak $H_0$ dikarenakan $z$ berada pada *critical section* ($z < {round(-z_alpha_per_dua, 4)}$ atau $z > {round(z_alpha_per_dua, 4)}$)\"))\n",
    "    display(Markdown(f\"Tes Signifikan: Tolak $H_0$ dikarenakan $p$ lebih kecil dari tingkat signifikan yang diinginkan ($p < {alpha}$)\"))\n",
    "    display(Markdown(f\"Jadi, perbedaan nilai rata-rata kolom awal OrganicCarbon dengan nilai rata-rata kolom akhir OrganicCarbon tidak sama dengan {delta_miu} ($μ_{{1}} - μ_{{2}} ≠ {delta_miu}$)\"))\n",
    "else:\n",
    "    display(Markdown(f\"Keputusan: Tidak menolak $H_0$ dikarenakan $z$ tidak berada pada *critical section* (${round(-z_alpha_per_dua, 4)} ≤ z ≤ {round(z_alpha_per_dua, 4)}$)\"))\n",
    "    display(Markdown(f\"Tes Signifikan: Tidak menolak $H_0$ dikarenakan $p$ lebih besar atau sama dengan tingkat signifikan yang diinginkan ($p ≥ {alpha}$)\"))\n",
    "    display(Markdown(f\"Jadi, perbedaan nilai rata-rata kolom awal OrganicCarbon dengan nilai rata-rata kolom akhir OrganicCarbon sama dengan {delta_miu} ($μ_{{1}} - μ_{{2}} = {delta_miu}$)\"))"
   ]
  },
  {
   "cell_type": "code",
   "execution_count": 44,
   "metadata": {},
   "outputs": [
    {
     "data": {
      "text/plain": [
       "-0.20793435664936233"
      ]
     },
     "execution_count": 44,
     "metadata": {},
     "output_type": "execute_result"
    }
   ],
   "source": [
    "df[\"OrganicCarbon\"][:len(df) // 2].mean() - df[\"OrganicCarbon\"][len(df) // 2:].mean()"
   ]
  },
  {
   "cell_type": "markdown",
   "metadata": {},
   "source": [
    "#### c. Rata-rata 100 baris pertama kolom Chloramines sama dengan 100 baris terakhirnya?"
   ]
  },
  {
   "cell_type": "markdown",
   "metadata": {},
   "source": [
    "$H_0$: Nilai rata-rata 100 baris pertama kolom Chloramines sama dengan nilai rata-rata 100 baris kolom akhir Chloroamines ($μ_{1} - μ_{2} = 0$)\n",
    "\n",
    "$H_1$: Nilai rata-rata 100 baris pertama kolom Chloramines sama dengan nilai rata-rata 100 baris kolom akhir Chloroamines ($μ_{1} - μ_{2} ≠ 0$)\n",
    "\n",
    "Tingkat Signifikan: $\\alpha = 0.05$\n",
    "\n",
    "Uji Statistik: Double Sample Two Tailed Z Test dengan *Critical Section* $z < -z_{\\alpha/2}$ atau $z > z_{\\alpha/2}$\n",
    "\n",
    "Rumus perhitungan nilai $z$:\n",
    "\n",
    "$$ z = \\frac{(\\bar{x_{1}} - \\bar{x_{2}}) - (μ_{1} - μ_{2})} {\\sqrt{\\sigma_{1}^{2}/n_{1} + \\sigma_{2}^{2}/n_{2}}} $$\n",
    "\n",
    "Jika $z$ berada pada *critical section* ($z < -z_{\\alpha/2}$ atau $z > z_{\\alpha/2}$), maka nilai $p < \\alpha$ dan $H_0$ ditolak\n",
    "\n",
    "Jika $z$ tidak berada pada *critical section* ($z < -z_{\\alpha/2}$ atau $z > z_{\\alpha/2}$), maka nilai $p ≥ \\alpha$ dan $H_0$ tidak ditolak"
   ]
  },
  {
   "cell_type": "code",
   "execution_count": 45,
   "metadata": {},
   "outputs": [
    {
     "data": {
      "text/plain": [
       "<AxesSubplot:>"
      ]
     },
     "execution_count": 45,
     "metadata": {},
     "output_type": "execute_result"
    },
    {
     "data": {
      "image/png": "[encoded data removed]",
      "text/plain": [
       "<Figure size 432x288 with 1 Axes>"
      ]
     },
     "metadata": {
      "needs_background": "light"
     },
     "output_type": "display_data"
    }
   ],
   "source": [
    "df[\"Chloramines\"].head(100).plot(kind=\"box\")"
   ]
  },
  {
   "cell_type": "code",
   "execution_count": 46,
   "metadata": {},
   "outputs": [
    {
     "data": {
      "text/plain": [
       "<AxesSubplot:>"
      ]
     },
     "execution_count": 46,
     "metadata": {},
     "output_type": "execute_result"
    },
    {
     "data": {
      "image/png": "[encoded data removed]",
      "text/plain": [
       "<Figure size 432x288 with 1 Axes>"
      ]
     },
     "metadata": {
      "needs_background": "light"
     },
     "output_type": "display_data"
    }
   ],
   "source": [
    "df[\"Chloramines\"].tail(100).plot(kind=\"box\")"
   ]
  },
  {
   "cell_type": "code",
   "execution_count": 47,
   "metadata": {},
   "outputs": [
    {
     "data": {
      "text/markdown": [
       "Didapatkan nilai $z = -0.7059$ dan $p = 0.4802$"
      ],
      "text/plain": [
       "<IPython.core.display.Markdown object>"
      ]
     },
     "metadata": {},
     "output_type": "display_data"
    },
    {
     "data": {
      "text/markdown": [
       "Didapatkan nilai $z_{\\alpha/2} = 1.96$"
      ],
      "text/plain": [
       "<IPython.core.display.Markdown object>"
      ]
     },
     "metadata": {},
     "output_type": "display_data"
    },
    {
     "data": {
      "text/markdown": [
       "Keputusan: Tidak menolak $H_0$ dikarenakan $z$ tidak berada pada *critical section* ($-1.96 ≤ z ≤ 1.96$)"
      ],
      "text/plain": [
       "<IPython.core.display.Markdown object>"
      ]
     },
     "metadata": {},
     "output_type": "display_data"
    },
    {
     "data": {
      "text/markdown": [
       "Tes Signifikan: Tidak menolak $H_0$ dikarenakan $p$ lebih besar atau sama dengan tingkat signifikan yang diinginkan ($p ≥ 0.05$)"
      ],
      "text/plain": [
       "<IPython.core.display.Markdown object>"
      ]
     },
     "metadata": {},
     "output_type": "display_data"
    },
    {
     "data": {
      "text/markdown": [
       "Jadi, Nilai rata-rata 100 baris pertama kolom Chloramines sama dengan nilai rata-rata 100 baris kolom akhir Chloroamines ($μ_{1} - μ_{2} = 0$)"
      ],
      "text/plain": [
       "<IPython.core.display.Markdown object>"
      ]
     },
     "metadata": {},
     "output_type": "display_data"
    }
   ],
   "source": [
    "delta_miu = 0\n",
    "alpha = 0.05\n",
    "\n",
    "z, p = ztest(df[\"Chloramines\"].head(100), df[\"Chloramines\"].tail(100), value=delta_miu, alternative=\"two-sided\")\n",
    "display(Markdown(f\"Didapatkan nilai $z = {round(z, 4)}$ dan $p = {round(p, 4)}$\"))\n",
    "\n",
    "z_alpha_per_dua = st.norm.ppf(1 - alpha / 2)\n",
    "display(Markdown(f\"Didapatkan nilai $z_{{\\\\alpha/2}} = {round(z_alpha_per_dua, 4)}$\"))\n",
    "\n",
    "if z < -z_alpha_per_dua or z > z_alpha_per_dua:\n",
    "    display(Markdown(f\"Keputusan: Tolak $H_0$ dikarenakan $z$ berada pada *critical section* ($z < {round(-z_alpha_per_dua, 4)}$ atau $z > {round(z_alpha_per_dua, 4)}$)\"))\n",
    "    display(Markdown(f\"Tes Signifikan: Tolak $H_0$ dikarenakan $p$ lebih kecil dari tingkat signifikan yang diinginkan ($p < {alpha}$)\"))\n",
    "    display(Markdown(f\"Jadi, nilai rata-rata 100 baris pertama kolom Chloramines tidak sama dengan nilai rata-rata 100 baris kolom akhir Chloroamines ($μ_{{1}} - μ_{{2}} ≠ {delta_miu}$)\"))\n",
    "else:\n",
    "    display(Markdown(f\"Keputusan: Tidak menolak $H_0$ dikarenakan $z$ tidak berada pada *critical section* (${round(-z_alpha_per_dua, 4)} ≤ z ≤ {round(z_alpha_per_dua, 4)}$)\"))\n",
    "    display(Markdown(f\"Tes Signifikan: Tidak menolak $H_0$ dikarenakan $p$ lebih besar atau sama dengan tingkat signifikan yang diinginkan ($p ≥ {alpha}$)\"))\n",
    "    display(Markdown(f\"Jadi, Nilai rata-rata 100 baris pertama kolom Chloramines sama dengan nilai rata-rata 100 baris kolom akhir Chloroamines ($μ_{{1}} - μ_{{2}} = {delta_miu}$)\"))"
   ]
  },
  {
   "cell_type": "markdown",
   "metadata": {},
   "source": [
    "#### d. Proporsi nilai bagian awal Turbidity yang lebih dari 4 adalah lebih besar daripada proporsi nilai yang sama pada di bagian akhir Turbidity?"
   ]
  },
  {
   "cell_type": "markdown",
   "metadata": {},
   "source": [
    "$H_0$: Proporsi nilai bagian awal Turbidity yang lebih dari 4 sama besar dengan proporsi nilai yang sama pada di bagian akhir Turbidity ($p_{1} - p_{2} = 0$)\n",
    "\n",
    "$H_1$: Proporsi nilai bagian awal Turbidity yang lebih dari 4 lebih besar dengan proporsi nilai yang sama pada di bagian akhir Turbidity ($p_{1} - p_{2} > 0$)\n",
    "\n",
    "Tingkat Signifikan: $\\alpha = 0.05$\n",
    "\n",
    "Uji Statistik: Single Sample Right Tailed One Proportion Z Test dengan *Critical Section* $z > z_\\alpha$\n",
    "\n",
    "Rumus perhitungan nilai $z$:\n",
    "\n",
    "$$ z = \\frac{\\hat{p_{1}} - \\hat{p_{2}}} {\\sqrt{\\hat{p}\\hat{q}(1/n_{1} + 1/n_{2})}} $$\n",
    "\n",
    "Jika $z$ berada pada *critical section* ($z > z_\\alpha$), maka nilai $p < \\alpha$ dan $H_0$ ditolak\n",
    "\n",
    "Jika $z$ tidak berada pada *critical section* ($z ≤ z_\\alpha$), maka nilai $p ≥ \\alpha$ dan $H_0$ tidak ditolak"
   ]
  },
  {
   "cell_type": "code",
   "execution_count": 48,
   "metadata": {},
   "outputs": [
    {
     "data": {
      "text/plain": [
       "<AxesSubplot:>"
      ]
     },
     "execution_count": 48,
     "metadata": {},
     "output_type": "execute_result"
    },
    {
     "data": {
      "image/png": "[encoded data removed]",
      "text/plain": [
       "<Figure size 432x288 with 1 Axes>"
      ]
     },
     "metadata": {
      "needs_background": "light"
     },
     "output_type": "display_data"
    }
   ],
   "source": [
    "df[\"Turbidity\"][:len(df) // 2].plot(kind=\"box\")"
   ]
  },
  {
   "cell_type": "code",
   "execution_count": 49,
   "metadata": {},
   "outputs": [
    {
     "data": {
      "text/plain": [
       "<AxesSubplot:>"
      ]
     },
     "execution_count": 49,
     "metadata": {},
     "output_type": "execute_result"
    },
    {
     "data": {
      "image/png": "[encoded data removed]",
      "text/plain": [
       "<Figure size 432x288 with 1 Axes>"
      ]
     },
     "metadata": {
      "needs_background": "light"
     },
     "output_type": "display_data"
    }
   ],
   "source": [
    "df[\"Turbidity\"][len(df) // 2:].plot(kind=\"box\")"
   ]
  },
  {
   "cell_type": "code",
   "execution_count": 64,
   "metadata": {},
   "outputs": [
    {
     "data": {
      "text/markdown": [
       "Didapatkan nilai $z = 43.5141$ dan $p = 0.0$"
      ],
      "text/plain": [
       "<IPython.core.display.Markdown object>"
      ]
     },
     "metadata": {},
     "output_type": "display_data"
    },
    {
     "data": {
      "text/markdown": [
       "Didapatkan nilai $z_{\\alpha} = 1.6449$"
      ],
      "text/plain": [
       "<IPython.core.display.Markdown object>"
      ]
     },
     "metadata": {},
     "output_type": "display_data"
    },
    {
     "data": {
      "text/markdown": [
       "Keputusan: Tolak $H_0$ dikarenakan $z$ berada pada *critical section* ($z > 1.6449$)"
      ],
      "text/plain": [
       "<IPython.core.display.Markdown object>"
      ]
     },
     "metadata": {},
     "output_type": "display_data"
    },
    {
     "data": {
      "text/markdown": [
       "Tes Signifikan: Tolak $H_0$ dikarenakan $p$ lebih kecil dari tingkat signifikan yang diinginkan ($p < 0.05$)"
      ],
      "text/plain": [
       "<IPython.core.display.Markdown object>"
      ]
     },
     "metadata": {},
     "output_type": "display_data"
    },
    {
     "data": {
      "text/markdown": [
       "Jadi, proporsi nilai bagian awal Turbidity yang lebih dari 4 lebih besar dengan proporsi nilai yang sama pada di bagian akhir Turbidity ($p_{1} - p_{2} > 0$)"
      ],
      "text/plain": [
       "<IPython.core.display.Markdown object>"
      ]
     },
     "metadata": {},
     "output_type": "display_data"
    }
   ],
   "source": [
    "delta_p = 0\n",
    "alpha = 0.05\n",
    "\n",
    "z, p = proportions_ztest([len(df[df[\"Turbidity\"] > 4][:len(df) // 2:]), len(df[df[\"Turbidity\"] > 4][len(df) // 2:])], [len(df[:len(df) // 2]), len(df[len(df) // 2:])], value=delta_p, alternative=\"larger\", prop_var=delta_p)\n",
    "display(Markdown(f\"Didapatkan nilai $z = {round(z, 4)}$ dan $p = {round(p, 4)}$\"))\n",
    "\n",
    "z_alpha = st.norm.ppf(1 - alpha)\n",
    "display(Markdown(f\"Didapatkan nilai $z_{{\\\\alpha}} = {round(z_alpha, 4)}$\"))\n",
    "\n",
    "if z > z_alpha:\n",
    "    display(Markdown(f\"Keputusan: Tolak $H_0$ dikarenakan $z$ berada pada *critical section* ($z > {round(z_alpha, 4)}$)\"))\n",
    "    display(Markdown(f\"Tes Signifikan: Tolak $H_0$ dikarenakan $p$ lebih kecil dari tingkat signifikan yang diinginkan ($p < {alpha}$)\"))\n",
    "    display(Markdown(f\"Jadi, proporsi nilai bagian awal Turbidity yang lebih dari 4 lebih besar dengan proporsi nilai yang sama pada di bagian akhir Turbidity ($p_{{1}} - p_{{2}} > {delta_p}$)\"))\n",
    "else:\n",
    "    display(Markdown(f\"Keputusan: Tidak menolak $H_0$ dikarenakan $z$ tidak berada pada *critical section* ($z ≤ {round(z_alpha, 4)}$)\"))\n",
    "    display(Markdown(f\"Tes Signifikan: Tidak menolak $H_0$ dikarenakan $p$ lebih besar atau sama dengan tingkat signifikan yang diinginkan ($p ≥ {alpha}$)\"))\n",
    "    display(Markdown(f\"Jadi, proporsi nilai bagian awal Turbidity yang lebih dari 4 sama besar dengan proporsi nilai yang sama pada di bagian akhir Turbidity ($p_{{1}} - p_{{2}} = {delta_p}$)\"))"
   ]
  },
  {
   "cell_type": "markdown",
   "metadata": {},
   "source": [
    "#### e. Bagian awal kolom Sulfate memiliki variansi yang sama pada bagian akhirnya?"
   ]
  },
  {
   "cell_type": "markdown",
   "metadata": {},
   "source": [
    "$H_0$: Variansi pada bagian awal kolom Sulfate sama dengan variansi pada bagian akhir kolom Sulfate (${\\sigma_{1}}^{2} = {\\sigma_{2}}^{2}$)\n",
    "\n",
    "$H_1$: Variansi pada bagian awal kolom Sulfate tidak sama dengan variansi pada bagian akhir kolom Sulfate (${\\sigma_{1}}^{2} ≠ {\\sigma_{2}}^{2}$)\n",
    "\n",
    "Tingkat Signifikan: $\\alpha = 0.05$\n",
    "\n",
    "Uji Statistik: Double Sample Two Tailed F Test dengan *Critical Section* $f < f_{1 - \\alpha / 2} (v_1, v_2)$ atau $f > f_{\\alpha / 2} (v_1, v_2)$ dengan $v_1 = n_1 - 1$ dan $v_2 = n_2 - 1$\n",
    "\n",
    "Rumus perhitungan nilai $f$:\n",
    "\n",
    "$$ f = \\frac{s_{1}^{2}}{s_{2}^{2}} $$\n",
    "\n",
    "Jika $f$ berada pada *critical section* ($f < f_{1 - \\alpha / 2} (v_1, v_2)$ atau $f > f_{\\alpha / 2} (v_1, v_2)$), maka nilai $p < \\alpha$ dan $H_0$ ditolak\n",
    "\n",
    "Jika $f$ tidak berada pada *critical section* ($f < f_{1 - \\alpha / 2} (v_1, v_2)$ atau $f > f_{\\alpha / 2} (v_1, v_2)$), maka nilai $p ≥ \\alpha$ dan $H_0$ tidak ditolak"
   ]
  },
  {
   "cell_type": "code",
   "execution_count": 51,
   "metadata": {},
   "outputs": [
    {
     "data": {
      "text/plain": [
       "<AxesSubplot:>"
      ]
     },
     "execution_count": 51,
     "metadata": {},
     "output_type": "execute_result"
    },
    {
     "data": {
      "image/png": "[encoded data removed]",
      "text/plain": [
       "<Figure size 432x288 with 1 Axes>"
      ]
     },
     "metadata": {
      "needs_background": "light"
     },
     "output_type": "display_data"
    }
   ],
   "source": [
    "df[\"Sulfate\"][:len(df) // 2].plot(kind=\"box\")"
   ]
  },
  {
   "cell_type": "code",
   "execution_count": 52,
   "metadata": {},
   "outputs": [
    {
     "data": {
      "text/plain": [
       "<AxesSubplot:>"
      ]
     },
     "execution_count": 52,
     "metadata": {},
     "output_type": "execute_result"
    },
    {
     "data": {
      "image/png": "[encoded data removed]",
      "text/plain": [
       "<Figure size 432x288 with 1 Axes>"
      ]
     },
     "metadata": {
      "needs_background": "light"
     },
     "output_type": "display_data"
    }
   ],
   "source": [
    "df[\"Sulfate\"][len(df) // 2:].plot(kind=\"box\")"
   ]
  },
  {
   "cell_type": "code",
   "execution_count": 53,
   "metadata": {},
   "outputs": [
    {
     "data": {
      "text/markdown": [
       "Didapatkan nilai $f = 1.0153$ dan $p = 0.4053$"
      ],
      "text/plain": [
       "<IPython.core.display.Markdown object>"
      ]
     },
     "metadata": {},
     "output_type": "display_data"
    },
    {
     "data": {
      "text/markdown": [
       "Didapatkan nilai $f_{1 - \\alpha / 2} (v_1, v_2) = 0.8836$"
      ],
      "text/plain": [
       "<IPython.core.display.Markdown object>"
      ]
     },
     "metadata": {},
     "output_type": "display_data"
    },
    {
     "data": {
      "text/markdown": [
       "Didapatkan nilai $f_{\\alpha / 2} (v_1, v_2) = 1.1318$"
      ],
      "text/plain": [
       "<IPython.core.display.Markdown object>"
      ]
     },
     "metadata": {},
     "output_type": "display_data"
    },
    {
     "data": {
      "text/markdown": [
       "Keputusan: Tidak menolak $H_0$ dikarenakan $f$ tidak berada pada *critical section* ($ 0.8836 ≤ z ≤ 1.1318$)"
      ],
      "text/plain": [
       "<IPython.core.display.Markdown object>"
      ]
     },
     "metadata": {},
     "output_type": "display_data"
    },
    {
     "data": {
      "text/markdown": [
       "Tes Signifikan: Tidak menolak $H_0$ dikarenakan $p$ lebih besar atau sama dengan tingkat signifikan yang diinginkan ($p ≥ 0.05$)"
      ],
      "text/plain": [
       "<IPython.core.display.Markdown object>"
      ]
     },
     "metadata": {},
     "output_type": "display_data"
    },
    {
     "data": {
      "text/markdown": [
       "Jadi, variansi pada bagian awal kolom Sulfate sama dengan variansi pada bagian akhir kolom Sulfate"
      ],
      "text/plain": [
       "<IPython.core.display.Markdown object>"
      ]
     },
     "metadata": {},
     "output_type": "display_data"
    }
   ],
   "source": [
    "alpha = 0.05\n",
    "v_1 = len(df[:len(df) // 2]) - 1\n",
    "v_2 = len(df[len(df) // 2:]) - 1\n",
    "\n",
    "f = df[\"Sulfate\"][:len(df) // 2].var() / df[\"Sulfate\"][len(df) // 2:].var()\n",
    "p = 1 - st.f.cdf(f, v_1, v_2)\n",
    "display(Markdown(f\"Didapatkan nilai $f = {round(f, 4)}$ dan $p = {round(p, 4)}$\"))\n",
    "\n",
    "f_lower = st.f.ppf(alpha / 2, v_1, v_2)\n",
    "f_upper = st.f.ppf(1 - alpha / 2, v_1, v_2)\n",
    "display(Markdown(f\"Didapatkan nilai $f_{{1 - \\\\alpha / 2}} (v_1, v_2) = {round(f_lower, 4)}$\"))\n",
    "display(Markdown(f\"Didapatkan nilai $f_{{\\\\alpha / 2}} (v_1, v_2) = {round(f_upper, 4)}$\"))\n",
    "\n",
    "if f < f_lower or f > f_upper:\n",
    "    display(Markdown(f\"Keputusan: Tolak $H_0$ dikarenakan $f$ berada pada *critical section* ($f < {round(f_lower, 4)}$ atau $f > {round(f_upper, 4)}$)\"))\n",
    "    display(Markdown(f\"Tes Signifikan: Tolak $H_0$ dikarenakan $p$ lebih kecil dari tingkat signifikan yang diinginkan ($p < {alpha}$)\"))\n",
    "    display(Markdown(f\"Jadi, variansi pada bagian awal kolom Sulfate tidak sama dengan variansi pada bagian akhir kolom Sulfate\"))\n",
    "else:\n",
    "    display(Markdown(f\"Keputusan: Tidak menolak $H_0$ dikarenakan $f$ tidak berada pada *critical section* ($ {round(f_lower, 4)} ≤ z ≤ {round(f_upper, 4)}$)\"))\n",
    "    display(Markdown(f\"Tes Signifikan: Tidak menolak $H_0$ dikarenakan $p$ lebih besar atau sama dengan tingkat signifikan yang diinginkan ($p ≥ {alpha}$)\"))\n",
    "    display(Markdown(f\"Jadi, variansi pada bagian awal kolom Sulfate sama dengan variansi pada bagian akhir kolom Sulfate\"))"
   ]
  }
 ],
 "metadata": {
  "interpreter": {
   "hash": "11750a45d027de3a0c6375b66a2ca69a4f5738deb2ecc4d2206dd4a175b7a843"
  },
  "kernelspec": {
   "display_name": "Python 3.10.2 64-bit",
   "language": "python",
   "name": "python3"
  },
  "language_info": {
   "codemirror_mode": {
    "name": "ipython",
    "version": 3
   },
   "file_extension": ".py",
   "mimetype": "text/x-python",
   "name": "python",
   "nbconvert_exporter": "python",
   "pygments_lexer": "ipython3",
   "version": "3.9.7"
  },
  "orig_nbformat": 4
 },
 "nbformat": 4,
 "nbformat_minor": 2
}
